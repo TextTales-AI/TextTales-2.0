{
 "cells": [
  {
   "cell_type": "markdown",
   "metadata": {},
   "source": [
    "# Pod transcript creator\n",
    "## Overview\n",
    "- Scrape news from Gnews (Unoffical api)\n",
    "- Combined into 1 text\n",
    "- Prompt transcript creation\n"
   ]
  },
  {
   "cell_type": "code",
   "execution_count": 2,
   "metadata": {},
   "outputs": [],
   "source": [
    "import os\n",
    "import gnews\n",
    "import openai\n",
    "from langchain.chat_models import ChatOpenAI\n",
    "from dotenv import load_dotenv\n",
    "from datetime import datetime\n",
    "import requests\n",
    "import datetime\n",
    "load_dotenv()\n",
    "\n",
    "openai.api_key = os.getenv(\"OPENAI_API_KEY\")\n",
    "weather_api_key = os.getenv(\"WEATHER_API_KEY\")"
   ]
  },
  {
   "cell_type": "code",
   "execution_count": 3,
   "metadata": {},
   "outputs": [],
   "source": [
    "def gen_article_text(topic, env=\"prod\"):\n",
    "    article_titles = list()\n",
    "    article_body = list()\n",
    "    if(env == \"prod\"):\n",
    "        # google_news = gnews.GNews(period='7d', max_results=10)\n",
    "        google_news = gnews.GNews(language='en', country='Sweden', period='7d', max_results=10)\n",
    "        news_response = google_news.get_news(topic) # En lista av artikelobjekt, article.text, article.title\n",
    "        for news in news_response:\n",
    "            full_article = google_news.get_full_article(news['url'])\n",
    "            if(full_article and (full_article.title and full_article.text)):\n",
    "                if(len(article_body) < 3):\n",
    "                    article_titles.append(full_article.title)\n",
    "                    article_body.append(full_article.text)\n",
    "        with open('./tmp/articles.txt', 'w') as f:   \n",
    "            for i in range(len(article_titles)):\n",
    "                if(i != 0):\n",
    "                    f.write(f\"********\\n\")\n",
    "                f.write(f\"{article_titles[i]}\\n\")\n",
    "                f.write(f\"********\\n\")\n",
    "                f.write(f\"{article_body[i]}\\n\")\n",
    "    elif(env == \"test\"):\n",
    "        with open('./tmp/articles.txt') as f:\n",
    "            lines = f.readlines()\n",
    "            lines = ''.join([line.strip() for line in lines])\n",
    "            lines = lines.split(\"********\")\n",
    "            for i in range(len(lines)):\n",
    "                line = lines[i]\n",
    "                if(i % 2 == 0):\n",
    "                    article_titles.append(line)\n",
    "                else:\n",
    "                    article_body.append(line)\n",
    "    # print(article_titles)\n",
    "    # print(article_body)\n",
    "    combined_text = \"\"\n",
    "    for article in article_body:\n",
    "        combined_text += article\n",
    "    \n",
    "    return combined_text\n",
    "# gen_article_text(\"Israel and palestine\")"
   ]
  },
  {
   "cell_type": "markdown",
   "metadata": {},
   "source": [
    "Get weather data"
   ]
  },
  {
   "cell_type": "code",
   "execution_count": 4,
   "metadata": {},
   "outputs": [],
   "source": [
    "def get_weather(city):\n",
    "    # url = f'http://api.openweathermap.org/data/2.5/weather?q={city}&appid={weather_api_key}&units=metric'\n",
    "    url = f'http://api.openweathermap.org/data/2.5/weather?q={city}&appid=8368401dc9a8d9bee4eeafa222ec5047&units=metric'\n",
    "    res = requests.get(url)\n",
    "    data = res.json()\n",
    "    humidity = data['main']['humidity']\n",
    "    pressure = data['main']['pressure']\n",
    "    wind = data['wind']['speed']\n",
    "    description = data['weather'][0]['description']\n",
    "    temp = int(data['main']['temp'])\n",
    "\n",
    "    # print('Temperature:',temp,'°C')\n",
    "    # print('Wind:',wind)\n",
    "    # print('Pressure: ',pressure)\n",
    "    # print('Humidity: ',humidity)\n",
    "    # print('Description:',description)\n",
    "    return temp, description\n",
    "\n",
    "# "
   ]
  },
  {
   "cell_type": "code",
   "execution_count": 5,
   "metadata": {},
   "outputs": [],
   "source": [
    "def themes_and_sumamry(text):  \n",
    "  chat_model = ChatOpenAI(model_name='gpt-3.5-turbo-16k') # Must have set API key as env var\n",
    "  prompt = f\"Identify three key themes in the following text an give each theme an informative title. Return each key theme on a new line. This is the text: {text}\"\n",
    "  themes = chat_model.predict(prompt)\n",
    "\n",
    "  # prompt = f\"Based on these three themes {themes} found in this text {text} write a coherent three segment podcast text for a podcaster to read. The listener have already been listening to an introduction so jump right into the segments without introducing them.\"\n",
    "  # podcast_transcript = chat_model.predict(prompt)\n",
    "  \n",
    "  prompt = f\"Based on these three themes {themes} found in this text {text} write a podcast text for a podcaster to read only for theme 1. The listener have already been listening to an introduction of the themes so no introduction is needed. Only generate the text that will be read for theme 1. Dont introduce the podcast or mention the other themes.\"\n",
    "  theme_1 = chat_model.predict(prompt)\n",
    "  prompt = f\"Based on these three themes {themes} found in this text {text} write a podcast text for a podcaster to read only for theme 2. The listener have already been listening to an introduction of the themes so no introduction is needed. Only generate the text that will be read for theme 2. Dont introduce the podcast or mention the other themes.\"\n",
    "  theme_2 = chat_model.predict(prompt)\n",
    "  prompt = f\"Based on these three themes {themes} found in this text {text} write a podcast text for a podcaster to read only for theme 3. The listener have already been listening to an introduction of the themes so no introduction is needed. Only generate the text that will be read for theme 3. Dont introduce the podcast or mention the other themes.\"\n",
    "  theme_3 = chat_model.predict(prompt)\n",
    "  # print(themes)\n",
    "  # print(podcast_transcript)\n",
    "  return themes, theme_1 + theme_2 + theme_3\n",
    "\n"
   ]
  },
  {
   "cell_type": "code",
   "execution_count": 6,
   "metadata": {},
   "outputs": [],
   "source": [
    "def gen_intro(town, day, time, w_temp, w_desc, topic, themes):\n",
    "    # Connect to OpenAI, prompt ChatGPT to summarize the text\n",
    "    chat_model = ChatOpenAI(model_name='gpt-3.5-turbo-16k') # Must have set API key as env var\n",
    "    prompt = f\"You are going to generate a podcast introduction for the daily news podcast PodPerfect hosted by Zoe. Begin with setting the scene with how the current day is looking. It is {day} and the time is {time} in {town}. The weather is {w_temp} with {w_desc}. Then introduce the {topic}. The three segments in today’s podcast are {themes}. In your response, only include the words Zoe should read and no other text. Make it around 300 words. Begin with “You are listening to PodPerfect – a podcast with me, Zoe, as your AI host.” and end with “Let’s jump right in!”.\"\n",
    "    intro = chat_model.predict(prompt)\n",
    "\n",
    "    prompt = f\"You are going to generate a podcast outro for the daily news podcast PodPerfect hosted by Zoe. The three segments in today’s podcast was the following themes {themes}. In your response, only include the words Zoe should read and no other text. Make it around 300 words. End with “You have been listening to PodPerfect – a podcast with me, Zoe your AI host.”\"\n",
    "    outro = chat_model.predict(prompt)\n",
    "    return intro, outro\n",
    "\n",
    "# gen_intro(\"Stockholm\", \"Friday\", \"9:00\", \"10 degrees\", \"Israel and palestine conflict\",\"Gaza residents told to move\", \"US response\", \"UN says 400 children dead\")\n"
   ]
  },
  {
   "cell_type": "code",
   "execution_count": 7,
   "metadata": {},
   "outputs": [
    {
     "name": "stderr",
     "output_type": "stream",
     "text": [
      "10/17/2023 05:15:16 PM - Article `download()` failed with 429 Client Error: Unknown Error for url: https://thehill.com/opinion/congress-blog/4256438-if-you-needed-more-proof-that-american-politics-is-in-trouble-here-it-is/ on URL https://consent.google.com/m?continue=https://news.google.com/rss/articles/CBMie2h0dHBzOi8vdGhlaGlsbC5jb20vb3Bpbmlvbi9jb25ncmVzcy1ibG9nLzQyNTY0MzgtaWYteW91LW5lZWRlZC1tb3JlLXByb29mLXRoYXQtYW1lcmljYW4tcG9saXRpY3MtaXMtaW4tdHJvdWJsZS1oZXJlLWl0LWlzL9IBf2h0dHBzOi8vdGhlaGlsbC5jb20vb3Bpbmlvbi9jb25ncmVzcy1ibG9nLzQyNTY0MzgtaWYteW91LW5lZWRlZC1tb3JlLXByb29mLXRoYXQtYW1lcmljYW4tcG9saXRpY3MtaXMtaW4tdHJvdWJsZS1oZXJlLWl0LWlzL2FtcC8?oc%3D5&gl=SE&m=0&pc=n&cm=2&hl=en-US&src=1\n"
     ]
    },
    {
     "name": "stdout",
     "output_type": "stream",
     "text": [
      "You are listening to PodPerfect – a podcast with me, Zoe, as your AI host. \n",
      "\n",
      "Good morning, listeners! It's Tuesday, 9 a.m here in Stockholm, and the weather outside is a bit gloomy. The temperature is currently at 9 degrees with light rain. So, grab your umbrella and cozy up as we dive into today's news.\n",
      "\n",
      "First up, we'll be exploring the ever-evolving landscape of U.S. politics. It's no secret that America has become increasingly polarized in recent years. Our first segment will delve into this phenomenon, examining the root causes of political polarization and its impact on American society.\n",
      "\n",
      "Moving on, we'll be discussing the fascinating overlap in voter opinions on hot-button issues. Despite political polarization, there are often surprising areas of agreement among voters. We'll explore how differing perspectives can converge on topics such as healthcare, climate change, and immigration. It's a complex and nuanced look at the diverse opinions that shape the American political landscape.\n",
      "\n",
      "Lastly, we'll be examining the impact of foreign conflicts on U.S. politics. From trade wars to military interventions, events abroad can have significant ramifications for domestic politics. We'll analyze how international events shape public opinion, influence policy decisions, and ultimately impact the American political scene.\n",
      "\n",
      "So, whether you're a political junkie or simply curious about the forces shaping the world today, you won't want to miss today's episode. We have a fascinating lineup of discussions that will shed light on the current state of U.S. politics.\n",
      "\n",
      "And with that, let's jump right in!\n",
      "Welcome back to our podcast, where we delve into the most pressing issues of our time. In today's episode, we focus on Theme 1: Political Polarization in America. \n",
      "\n",
      "The current state of political affairs in the United States is characterized by deep divisions and growing polarization. Americans' opinions of governmental and political institutions have reached historic lows, with many feeling exhausted and angry when thinking about politics. A recent study by the Pew Research Center revealed that a majority of Americans believe that Republicans and Democrats are more focused on fighting each other than on solving problems.\n",
      "\n",
      "While the political divide may seem insurmountable, there is evidence to suggest that American voters may be less far apart than it appears. A report by the Carnegie Endowment for International Peace found that while American politicians are highly ideologically polarized, there is significant overlap among voters on hot-button issues such as guns, abortion, and how to teach American history.\n",
      "\n",
      "To further explore this topic, experts will convene at the University of Rhode Island for a symposium titled \"Polarization of Politics in America: Finding the Center.\" The panel will include former U.S. Congressmen James R. Langevin and Steve Israel, as well as former White House Chief of Staff Reince Priebus. These political professionals from both sides of the aisle will discuss political polarization and ongoing attempts at bipartisanship.\n",
      "\n",
      "Political polarization is not only a threat to America's democracy but also has profound negative effects on government, culture, and even national security. As we approach another divisive national election season, it becomes increasingly important to find ways to engage across the political divide. Solving the problems of the 21st century will require rediscovering how to cooperate and find consensus among ourselves.\n",
      "\n",
      "Stay tuned as we delve deeper into the issue of political polarization in America and explore potential solutions to bridge the divide.In today's episode, we dive into the theme of overlap in voter opinions on hot-button issues. While political polarization in America may feel insurmountable, recent research suggests that American voters may be less far apart than it seems. According to a report by the Carnegie Endowment for International Peace, there is quite a bit of overlap among voters on issues such as guns, abortion, and how to teach American history.\n",
      "\n",
      "This finding challenges the notion that Republicans and Democrats are constantly at odds and highlights the potential for finding common ground on these contentious topics. Despite the highly ideologically polarized nature of American politicians, it appears that voters across the political spectrum share similar views on certain issues.\n",
      "\n",
      "To delve deeper into this topic, we have gathered a panel of political professionals from both sides of the aisle. Joining us today are former U.S. Congressmen James R. Langevin and Steve Israel, as well as former White House Chief of Staff Reince Priebus. These experts will discuss the phenomenon of political polarization, the challenges it poses, and ongoing attempts at bipartisanship.\n",
      "\n",
      "As we navigate another divisive national election season, it is crucial to find ways to engage across the political divide and rediscover how to cooperate and find consensus. Join us as we explore the potential for finding common ground on hot-button issues and seek to understand the perspectives of voters from different political affiliations.\n",
      "\n",
      "Thank you for tuning in to today's episode, where we aim to shed light on the overlap in voter opinions on hot-button issues. Stay tuned for insightful discussions and valuable insights from our esteemed panel of political professionals. Let's strive to bridge the divide and work towards a more united and cooperative political landscape.In today's episode, we will be diving into the impact of foreign conflicts on U.S. politics. As tensions rise abroad, particularly in Ukraine and Israel, the question arises: how will these conflicts influence national policy? With the upcoming presidential election, it is crucial to examine the potential ramifications of these global events on the political landscape.\n",
      "\n",
      "To shed light on this topic, we have invited two esteemed political scientists, Dr. David Wiltse and Dr. Lisa Hager, to provide their insights. They will analyze how Americans are discussing the Israel-Hamas war and the broader implications for U.S. foreign policy. Furthermore, they will explore the potential intersection between the conflict in Ukraine and its influence on Congress, particularly in relation to passing the budget and the National Defense Authorization Act.\n",
      "\n",
      "In addition to discussing the current situation, our experts will also delve into the impact of these conflicts on presidential politics in the upcoming election. While foreign policy may not typically be a major factor in elections, the ongoing conflicts have already garnered attention from candidates like Ron DeSantis. Our experts will explore whether these global events will have a long-lasting impact on the campaign trail.\n",
      "\n",
      "Lastly, we will address the role of disinformation in shaping public opinion on social media platforms like Twitter. With the proliferation of false information, it is crucial for individuals to practice media hygiene and verify the accuracy of sources before engaging with and sharing content.\n",
      "\n",
      "Join us as we navigate the complex relationship between foreign conflicts and U.S. politics, seeking to understand the potential consequences and implications for our nation.\n",
      "Thank you for tuning in to today's episode of PodPerfect, where we delved into three thought-provoking themes that shape the current political landscape in America. \n",
      "\n",
      "In our first segment, we explored the ever-growing issue of political polarization in America. From the widening gap between liberals and conservatives to the increasing hostility in political discourse, it is clear that our nation is deeply divided. We examined the roots of this polarization and the potential consequences it may have on our democracy.\n",
      "\n",
      "Moving on to our second theme, we discussed the overlap in voter opinions on hot-button issues. Despite the apparent divide, we discovered that there are areas where voters from both sides of the aisle find common ground. We analyzed these shared concerns, such as healthcare, climate change, and economic inequality, highlighting the potential for bipartisan solutions.\n",
      "\n",
      "Lastly, we delved into the impact of foreign conflicts on U.S. politics. We explored how international events, such as wars or diplomatic crises, can significantly influence domestic policies and public opinion. By examining historical examples and current events, we aimed to shed light on the complex relationship between global affairs and our political landscape.\n",
      "\n",
      "We hope that today's episode has provided you with valuable insights into these pressing topics. As always, we encourage you to engage in thoughtful discussions and seek a deeper understanding of the issues that shape our society.\n",
      "\n",
      "Thank you for joining us on this exploration of political polarization, voter opinions, and the impact of foreign conflicts on U.S. politics. Stay informed and keep seeking knowledge. You have been listening to PodPerfect – a podcast with me, Zoe your AI host.\n"
     ]
    }
   ],
   "source": [
    "town = \"Stockholm\"\n",
    "days = [\"Monday\", \"Tuesday\", \"Wednesday\", \"Thirsday\", \"Friday\", \"Saturday\", \"Sunday\"]\n",
    "day = days[datetime.datetime.today().weekday()]\n",
    "time = \"9 a.m\"\n",
    "topic = \"US politics\"\n",
    "text = gen_article_text(topic, \"prod\")\n",
    "themes, podcast_transcript = themes_and_sumamry(text)\n",
    "w_temp, w_desc = get_weather(town)\n",
    "intro, outro = gen_intro(town, day, time, w_temp, w_desc, topic, themes)\n",
    "\n",
    "full_text = intro + \"\\n\" + podcast_transcript + \"\\n\" + outro\n",
    "print(full_text)\n"
   ]
  }
 ],
 "metadata": {
  "kernelspec": {
   "display_name": "Python 3",
   "language": "python",
   "name": "python3"
  },
  "language_info": {
   "codemirror_mode": {
    "name": "ipython",
    "version": 3
   },
   "file_extension": ".py",
   "mimetype": "text/x-python",
   "name": "python",
   "nbconvert_exporter": "python",
   "pygments_lexer": "ipython3",
   "version": "3.10.12"
  }
 },
 "nbformat": 4,
 "nbformat_minor": 2
}
