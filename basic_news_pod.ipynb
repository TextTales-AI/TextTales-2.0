{
 "cells": [
  {
   "cell_type": "code",
   "execution_count": 19,
   "metadata": {},
   "outputs": [],
   "source": [
    "# pip install newspaper3k\n",
    "# pip install gnews\n",
    "# pip install gradio\n",
    "# pip install elevenlabs\n",
    "# pip install openai\n",
    "# pip install langchain"
   ]
  },
  {
   "cell_type": "code",
   "execution_count": 20,
   "metadata": {},
   "outputs": [],
   "source": [
    "import os\n",
    "import gnews\n",
    "import gradio as gr\n",
    "from pydub import AudioSegment\n",
    "from moviepy.editor import concatenate_audioclips, AudioFileClip\n",
    "from langchain.chat_models import ChatOpenAI\n",
    "from langchain.document_loaders import PyPDFLoader\n",
    "from elevenlabs import voices, generate, play, save\n",
    "from langchain.tools import WikipediaQueryRun\n",
    "from langchain.utilities import WikipediaAPIWrapper\n",
    "\n",
    "eleven_api_key = \"ba5f6b65b92726a8912302888e20fea0\""
   ]
  },
  {
   "cell_type": "code",
   "execution_count": 21,
   "metadata": {},
   "outputs": [],
   "source": [
    "from newspaper import Config\n",
    "\n",
    "config = Config()\n",
    "user_agent = 'Mozilla/5.0 (Windows NT 10.0; Win64; x64) AppleWebKit/537.36 (KHTML, like Gecko) Chrome/117.0.0.0 Safari/537.36'\n",
    "config.browser_user_agent = user_agent"
   ]
  },
  {
   "cell_type": "code",
   "execution_count": null,
   "metadata": {},
   "outputs": [],
   "source": []
  },
  {
   "cell_type": "code",
   "execution_count": 22,
   "metadata": {},
   "outputs": [],
   "source": [
    "google_news = gnews.GNews(period='1d', max_results=10, language='sv')\n",
    "news_response = google_news.get_news(\"Sprängning Hässelby\")\n",
    "\n",
    "all_news_text = ''\n",
    "for i in range(len(news_response)): # Iterate collected news\n",
    "    # try:\n",
    "    article = google_news.get_full_article(news_response[i]['url']) # Get full news text for each article\n",
    "    all_news_text += (article.title + \": \" + article.text + \"****\")\n",
    "    # except:\n",
    "    #     print('error')\n",
    "    #     continue"
   ]
  },
  {
   "cell_type": "code",
   "execution_count": 23,
   "metadata": {},
   "outputs": [
    {
     "data": {
      "text/plain": [
       "''"
      ]
     },
     "execution_count": 23,
     "metadata": {},
     "output_type": "execute_result"
    }
   ],
   "source": [
    "all_news_text"
   ]
  },
  {
   "cell_type": "code",
   "execution_count": 24,
   "metadata": {},
   "outputs": [],
   "source": [
    "num_words = 100\n",
    "style = \"Explain it to me like I'm five years old\"\n",
    "summary_lang = \"English\"\n",
    "chat_model = ChatOpenAI(model_name='gpt-3.5-turbo-16k') # Must have set API key as env var\n",
    "prompt = \"Summarize the following text in {} words. {}. The summary must be in {}. The text contains several news articles, separated by this sign '****'. Here's the text: {}\".format(num_words, style, summary_lang, all_news_text) \n",
    "summary = chat_model.predict(prompt)"
   ]
  },
  {
   "cell_type": "code",
   "execution_count": 25,
   "metadata": {},
   "outputs": [],
   "source": [
    "def concatenate_audio_moviepy(audio_clip_paths, output_path):\n",
    "    \"\"\"Concatenates several audio files into one audio file using MoviePy\n",
    "    and save it to `output_path`. Note that extension (mp3, etc.) must be added to `output_path`\"\"\"\n",
    "    clips = [AudioFileClip(c) for c in audio_clip_paths]\n",
    "    final_clip = concatenate_audioclips(clips)\n",
    "    final_clip.write_audiofile(output_path)"
   ]
  },
  {
   "cell_type": "code",
   "execution_count": null,
   "metadata": {},
   "outputs": [],
   "source": [
    "# wikipedia = WikipediaQueryRun(api_wrapper=WikipediaAPIWrapper())\n",
    "    # all_news_text = wikipedia.run(topic)    \n",
    "\n",
    "### IGNORERA ###\n",
    "    # if topic[0] == 'E':\n",
    "    #     return \"news_audio/summary_in_0.5_mins_0_READY.wav\"\n",
    "    # elif topic[0] == 'T':\n",
    "    #     return \"news_audio/summary_in_1_mins_0_READY.wav\""
   ]
  },
  {
   "cell_type": "code",
   "execution_count": 26,
   "metadata": {},
   "outputs": [],
   "source": [
    "def podify(topic, style, num_minutes, voice):\n",
    "\n",
    "    num_words = num_minutes*135 # Approximately 135 words per minute with TTS voice (refine this)\n",
    "\n",
    "    audio_voice = voice.split()[0]\n",
    "    summary_lang = \"English\"\n",
    "    if voice.split()[1] == \"(SWE)\":\n",
    "        summary_lang = \"Swedish\"\n",
    "    if voice.split()[1] == \"(IT)\":\n",
    "        summary_lang = \"Italian\"\n",
    "\n",
    "    google_news = gnews.GNews(period='7d', max_results=10) # News scraper, hitta alternativ! TASK 1.\n",
    "    news_response = google_news.get_news(topic) # En lista av artikelobjekt, article.text, article.title\n",
    "\n",
    "    ### TASK 2 ###\n",
    "    ### Här borde man använda ChatGPT för att gå fråga om artiklarna är relevanta för the user topic ###\n",
    "    ### Hämta alla articles.title, fråga om \"Is this (title) / (first paragraph) relevant to answer (user topic)\"\n",
    "    ### Behöver inte göra en i taget, skicka en lista av titlar/paragrafer i en request - fråga vilka som är relavantas\n",
    "\n",
    "    all_news_text = ''\n",
    "    for i in range(len(news_response)): # Iterate collected news\n",
    "        try:\n",
    "            article = google_news.get_full_article(news_response[i]['url']) # Get full news text for each article\n",
    "            all_news_text += (article.title + \": \" + article.text + \"****\") # Experimentera gärna med separators / inget\n",
    "        except:\n",
    "            continue      \n",
    "\n",
    "    ### TASK 3: Nu har jag bara en jävligt lång kontext-version av GPT, men här vill man köra summeringstekniker av all_news_text\n",
    "    # Connect to OpenAI, prompt ChatGPT to summarize the text\n",
    "    chat_model = ChatOpenAI(model_name='gpt-3.5-turbo-16k') # Must have set API key as env var\n",
    "    prompt = \"Summarize the following text in {} words. {}. The summary must be in {}. Here's the text: {}\".format(num_words, style, summary_lang, all_news_text) # The text contains several news articles, separated by this sign '****'.\n",
    "    summary = chat_model.predict(prompt)\n",
    "\n",
    "    # Connect to elevenlabs, generate audio\n",
    "    audio = generate(text=summary, voice=audio_voice, model=\"eleven_monolingual_v1\", api_key=eleven_api_key)\n",
    "    intro_audio = generate(text='You are listening to an AI-generated podcast on the theme {}, provided to you by PerfectPod AI'.format(topic), voice=audio_voice, model=\"eleven_monolingual_v1\", api_key=eleven_api_key)\n",
    "\n",
    "    # TASK 4, gör detta bättre. Kom på sätt att göra detta effektivt. Lite onödigt kanske med två olika genereringar av ljud? Hur kan man lägga in ljudeffekter bra? (addrrar ljudfiler, overlayar ljud)\n",
    "\n",
    "    # Save audiofile\n",
    "    if not os.path.exists(\"news_audio\"):\n",
    "        os.makedirs(\"news_audio\")\n",
    "\n",
    "    # Handling identical file names\n",
    "    file_suffix = 0\n",
    "    while os.path.exists(\"news_audio/summary_in_{}_mins_{}.wav\".format(num_minutes, file_suffix)):\n",
    "        file_suffix +=1\n",
    "\n",
    "    save(audio, \"news_audio/summary_in_{}_mins_{}.wav\".format(num_minutes, file_suffix))\n",
    "    save(intro_audio, \"news_audio/summary_in_{}_mins_{}_INTRO.wav\".format(num_minutes, file_suffix)) \n",
    "\n",
    "    concatenate_audio_moviepy([\"news_audio/summary_in_{}_mins_{}_INTRO.wav\".format(num_minutes, file_suffix), \"sound_effects/original_transition.wav\"], \"news_audio/summary_in_{}_mins_{}_INTERMED.wav\".format(num_minutes, file_suffix))\n",
    "    concatenate_audio_moviepy([\"news_audio/summary_in_{}_mins_{}_INTERMED.wav\".format(num_minutes, file_suffix), \"news_audio/summary_in_{}_mins_{}.wav\".format(num_minutes, file_suffix)], \"news_audio/summary_in_{}_mins_{}_READY.wav\".format(num_minutes, file_suffix))\n",
    "\n",
    "    return \"news_audio/summary_in_{}_mins_{}_READY.wav\".format(num_minutes, file_suffix)\n",
    "\n",
    "\n",
    "    ### TASK 5: Hur får vi långa poddar. Vi vill ha lång output, och vi måste experimentera med detta.\n",
    "    ### Se hur folk generar hela böcker med ChatGPT, medium. Ex generera templates, generera rekursivt delar. Ha med summeringar av tidigare delar?\n",
    "\n",
    "\n"
   ]
  },
  {
   "cell_type": "code",
   "execution_count": 27,
   "metadata": {},
   "outputs": [
    {
     "name": "stdout",
     "output_type": "stream",
     "text": [
      "Running on local URL:  http://127.0.0.1:7862\n",
      "Running on public URL: https://c3f9fc3ebcbb84b7ab.gradio.live\n",
      "\n",
      "This share link expires in 72 hours. For free permanent hosting and GPU upgrades, run `gradio deploy` from Terminal to deploy to Spaces (https://huggingface.co/spaces)\n"
     ]
    },
    {
     "data": {
      "text/html": [
       "<div><iframe src=\"https://c3f9fc3ebcbb84b7ab.gradio.live\" width=\"100%\" height=\"500\" allow=\"autoplay; camera; microphone; clipboard-read; clipboard-write;\" frameborder=\"0\" allowfullscreen></iframe></div>"
      ],
      "text/plain": [
       "<IPython.core.display.HTML object>"
      ]
     },
     "metadata": {},
     "output_type": "display_data"
    },
    {
     "data": {
      "text/plain": []
     },
     "execution_count": 27,
     "metadata": {},
     "output_type": "execute_result"
    }
   ],
   "source": [
    "demo = gr.Interface(fn=podify, \n",
    "                    inputs=[\n",
    "                            gr.Textbox(label=\"What do you want your podcast to be about?\", placeholder=\"E.g. 'This week's news in AI'\"),\n",
    "                            gr.Textbox(label=\"Do you want to customize the style of your podcast?\", placeholder=\"E.g. 'Explain this to me like I'm five years old'\"),\n",
    "                            gr.Slider(minimum=0.5, maximum=5, step=0.5, label=\"Length\", info = \"Number of minutes of audio summary\"),\n",
    "                            gr.Dropdown([\"Adam (US)\", \"Antoni (IT)\", \"Arnold (US)\", \"Bella (US)\", \"Domi (US)\", \"Elli (US)\", \"Josh (SWE)\", \"Rachel (US)\", \"Sam (US)\"], label=\"Voice\", info=\"Narrator voice and language of podcast\"),\n",
    "                            ],\n",
    "                    outputs= [\"audio\"]\n",
    "                    )\n",
    "demo.launch(share=True)"
   ]
  }
 ],
 "metadata": {
  "kernelspec": {
   "display_name": "Python 3",
   "language": "python",
   "name": "python3"
  },
  "language_info": {
   "codemirror_mode": {
    "name": "ipython",
    "version": 3
   },
   "file_extension": ".py",
   "mimetype": "text/x-python",
   "name": "python",
   "nbconvert_exporter": "python",
   "pygments_lexer": "ipython3",
   "version": "3.11.0"
  },
  "orig_nbformat": 4
 },
 "nbformat": 4,
 "nbformat_minor": 2
}
