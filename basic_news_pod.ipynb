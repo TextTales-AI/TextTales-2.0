{
 "cells": [
  {
   "cell_type": "code",
   "execution_count": null,
   "metadata": {},
   "outputs": [],
   "source": [
    "# pip install newspaper3k\n",
    "# pip install gnews\n",
    "# pip install gradio\n",
    "# pip install elevenlabs\n",
    "# pip install openai\n",
    "# pip install langchain"
   ]
  },
  {
   "cell_type": "code",
   "execution_count": 3,
   "metadata": {},
   "outputs": [
    {
     "name": "stderr",
     "output_type": "stream",
     "text": [
      "/usr/local/lib/python3.10/site-packages/tqdm/auto.py:21: TqdmWarning: IProgress not found. Please update jupyter and ipywidgets. See https://ipywidgets.readthedocs.io/en/stable/user_install.html\n",
      "  from .autonotebook import tqdm as notebook_tqdm\n"
     ]
    }
   ],
   "source": [
    "import os\n",
    "import json\n",
    "import gnews\n",
    "import openai\n",
    "import gradio as gr\n",
    "import pandas as pd\n",
    "import numpy as np\n",
    "import matplotlib.pyplot as plt\n",
    "import networkx as nx\n",
    "from langchain.docstore.document import Document\n",
    "from langchain.chains.summarize import load_summarize_chain\n",
    "from pydub import AudioSegment\n",
    "from networkx.algorithms import community\n",
    "from langchain.chat_models import ChatOpenAI\n",
    "from langchain.document_loaders import PyPDFLoader\n",
    "from elevenlabs import voices, generate, play, save\n",
    "from langchain import OpenAI\n",
    "from langchain.tools import WikipediaQueryRun\n",
    "from langchain.utilities import WikipediaAPIWrapper\n",
    "from langchain.prompts import PromptTemplate\n",
    "from langchain.chains.llm import LLMChain\n",
    "from langchain.embeddings import OpenAIEmbeddings\n",
    "from pygooglenews import GoogleNews\n",
    "from dotenv import load_dotenv\n",
    "from datetime import datetime\n",
    "from scipy.spatial.distance import cosine\n",
    "load_dotenv()\n",
    "\n",
    "openai.api_key = os.getenv(\"OPENAI_API_KEY\")\n",
    "gn = GoogleNews()\n",
    "eleven_api_key = \"cfca92285bd4a2238aadd6efc15ab464\""
   ]
  },
  {
   "cell_type": "code",
   "execution_count": 20,
   "metadata": {},
   "outputs": [],
   "source": [
    "def gen_article_text(topic, env=\"prod\"):\n",
    "    article_titles = list()\n",
    "    article_body = list()\n",
    "    if(env == \"prod\"):\n",
    "        # google_news = gnews.GNews(period='7d', max_results=10)\n",
    "        google_news = gnews.GNews(language='en', country='Sweden', period='7d', max_results=10)\n",
    "        news_response = google_news.get_news(topic) # En lista av artikelobjekt, article.text, article.title\n",
    "        print(news_response)\n",
    "        for news in news_response:\n",
    "            full_article = google_news.get_full_article(news['url'])\n",
    "            print(\"-----\")\n",
    "            print(full_article)\n",
    "            if(full_article and (full_article.title and full_article.text)):\n",
    "                article_titles.append(full_article.title)\n",
    "                article_body.append(full_article.text)\n",
    "        with open('./tmp/articles.txt', 'w') as f:   \n",
    "            for i in range(len(article_titles)):\n",
    "                if(i != 0):\n",
    "                    f.write(f\"********\\n\")\n",
    "                f.write(f\"{article_titles[i]}\\n\")\n",
    "                f.write(f\"********\\n\")\n",
    "                f.write(f\"{article_body[i]}\\n\")\n",
    "    elif(env == \"test\"):\n",
    "        with open('./tmp/articles.txt') as f:\n",
    "            lines = f.readlines()\n",
    "            lines = ''.join([line.strip() for line in lines])\n",
    "            lines = lines.split(\"********\")\n",
    "            for i in range(len(lines)):\n",
    "                line = lines[i]\n",
    "                if(i % 2 == 0):\n",
    "                    article_titles.append(line)\n",
    "                else:\n",
    "                    article_body.append(line)\n",
    "    # print(article_titles)\n",
    "    # print(article_body)\n",
    "    combined_text = \"\"\n",
    "    for article in article_body:\n",
    "        combined_text += article\n",
    "    \n",
    "    return combined_text"
   ]
  },
  {
   "cell_type": "code",
   "execution_count": 21,
   "metadata": {},
   "outputs": [
    {
     "name": "stdout",
     "output_type": "stream",
     "text": [
      "[{'title': 'Sweden’s prime minister summons police and army chiefs, as gang violence surges - CNN', 'description': 'Sweden’s prime minister summons police and army chiefs, as gang violence surges  CNN', 'published date': 'Fri, 29 Sep 2023 10:52:00 GMT', 'url': 'https://consent.google.com/m?continue=https://news.google.com/rss/articles/CBMiX2h0dHBzOi8vd3d3LmNubi5jb20vMjAyMy8wOS8yOS9ldXJvcGUvc3dlZGVuLWdhbmctdmlvbGVuY2Uta2lsbGluZ3MtcG9saWNlLWFybXktaW50bC9pbmRleC5odG1s0gFjaHR0cHM6Ly9hbXAuY25uLmNvbS9jbm4vMjAyMy8wOS8yOS9ldXJvcGUvc3dlZGVuLWdhbmctdmlvbGVuY2Uta2lsbGluZ3MtcG9saWNlLWFybXktaW50bC9pbmRleC5odG1s?oc%3D5&gl=SE&m=0&pc=n&cm=2&hl=en-US&src=1', 'publisher': {'href': 'https://www.cnn.com', 'title': 'CNN'}}, {'title': 'Sweden calls on military to assist police in fighting gangs - Reuters', 'description': 'Sweden calls on military to assist police in fighting gangs  Reuters', 'published date': 'Fri, 29 Sep 2023 15:51:00 GMT', 'url': 'https://consent.google.com/m?continue=https://news.google.com/rss/articles/CBMiY2h0dHBzOi8vd3d3LnJldXRlcnMuY29tL3dvcmxkL2V1cm9wZS9zd2VkZW4tY2FsbHMtbWlsaXRhcnktYXNzaXN0LXBvbGljZS1maWdodGluZy1nYW5ncy0yMDIzLTA5LTI5L9IBAA?oc%3D5&gl=SE&m=0&pc=n&cm=2&hl=en-US&src=1', 'publisher': {'href': 'https://www.reuters.com', 'title': 'Reuters'}}, {'title': \"Turkey calls on Sweden to take more 'concrete measures' before ... - Financial Times\", 'description': \"Turkey calls on Sweden to take more 'concrete measures' before ...  Financial Times\", 'published date': 'Sun, 01 Oct 2023 04:00:20 GMT', 'url': 'https://consent.google.com/m?continue=https://news.google.com/rss/articles/CBMiP2h0dHBzOi8vd3d3LmZ0LmNvbS9jb250ZW50LzhhNjFlODg2LWIxYzAtNDkwYi1hNzM3LWY1Yzg0MTUwNGE4MtIBAA?oc%3D5&gl=SE&m=0&pc=n&cm=2&hl=en-US&src=1', 'publisher': {'href': 'https://www.ft.com', 'title': 'Financial Times'}}, {'title': \"Sweden's Northvolt to build $5.2 billion battery factory in Canada - Reuters\", 'description': \"Sweden's Northvolt to build $5.2 billion battery factory in Canada  Reuters\", 'published date': 'Thu, 28 Sep 2023 15:28:00 GMT', 'url': 'https://consent.google.com/m?continue=https://news.google.com/rss/articles/CBMid2h0dHBzOi8vd3d3LnJldXRlcnMuY29tL2J1c2luZXNzL2F1dG9zLXRyYW5zcG9ydGF0aW9uL3N3ZWRlbnMtbm9ydGh2b2x0LWJ1aWxkLTUyLWJsbi1iYXR0ZXJ5LWZhY3RvcnktY2FuYWRhLTIwMjMtMDktMjgv0gEA?oc%3D5&gl=SE&m=0&pc=n&cm=2&hl=en-US&src=1', 'publisher': {'href': 'https://www.reuters.com', 'title': 'Reuters'}}, {'title': 'How the Menendez scandal could end up with Turkey getting F-16s ... - Atlantic Council', 'description': 'How the Menendez scandal could end up with Turkey getting F-16s ...  Atlantic Council', 'published date': 'Mon, 02 Oct 2023 21:57:55 GMT', 'url': 'https://consent.google.com/m?continue=https://news.google.com/rss/articles/CBMikwFodHRwczovL3d3dy5hdGxhbnRpY2NvdW5jaWwub3JnL2Jsb2dzL25ldy1hdGxhbnRpY2lzdC9ob3ctdGhlLW1lbmVuZGV6LXNjYW5kYWwtY291bGQtZW5kLXVwLXdpdGgtdHVya2V5LWdldHRpbmctZi0xNnMtYW5kLXN3ZWRlbi1nZXR0aW5nLWludG8tbmF0by_SAQA?oc%3D5&gl=SE&m=0&pc=n&cm=2&hl=en-US&src=1', 'publisher': {'href': 'https://www.atlanticcouncil.org', 'title': 'Atlantic Council'}}, {'title': 'Nobel Prize winner shocked by early morning phone call from Sweden: ‘It was ringing during the night, but I didn’t answer it because I’m trying to get some sleep, basically’ - Fortune', 'description': 'Nobel Prize winner shocked by early morning phone call from Sweden: ‘It was ringing during the night, but I didn’t answer it because I’m trying to get some sleep, basically’  Fortune', 'published date': 'Wed, 04 Oct 2023 21:15:00 GMT', 'url': 'https://consent.google.com/m?continue=https://news.google.com/rss/articles/CBMiaWh0dHBzOi8vZm9ydHVuZS5jb20vMjAyMy8xMC8wNC9ub2JlbC1wcml6ZS13aW5uZXItc2hvY2tlZC1waG9uZS1jYWxsLXN3ZWRlbi1jb2x1bWJpYS1wcm9mZXNzb3ItY2hlbWlzdHJ5L9IBbWh0dHBzOi8vZm9ydHVuZS5jb20vMjAyMy8xMC8wNC9ub2JlbC1wcml6ZS13aW5uZXItc2hvY2tlZC1waG9uZS1jYWxsLXN3ZWRlbi1jb2x1bWJpYS1wcm9mZXNzb3ItY2hlbWlzdHJ5L2FtcC8?oc%3D5&gl=SE&m=0&pc=n&cm=2&hl=en-US&src=1', 'publisher': {'href': 'https://fortune.com', 'title': 'Fortune'}}, {'title': 'Cellnex sells stake in units in Sweden, Denmark for $772 million to ... - Reuters', 'description': 'Cellnex sells stake in units in Sweden, Denmark for $772 million to ...  Reuters', 'published date': 'Fri, 29 Sep 2023 11:57:00 GMT', 'url': 'https://consent.google.com/m?continue=https://news.google.com/rss/articles/CBMidGh0dHBzOi8vd3d3LnJldXRlcnMuY29tL2J1c2luZXNzL21lZGlhLXRlbGVjb20vY2VsbG5leC1zZWxscy00OS1zdGFrZS11bml0cy1zd2VkZW4tZGVubWFyay03MzAtbWxuLWV1cm9zLTIwMjMtMDktMjkv0gEA?oc%3D5&gl=SE&m=0&pc=n&cm=2&hl=en-US&src=1', 'publisher': {'href': 'https://www.reuters.com', 'title': 'Reuters'}}, {'title': \"Cambodian court bars environmental activists from traveling to Sweden to receive 'Alternative Nobel' - ABC News\", 'description': \"Cambodian court bars environmental activists from traveling to Sweden to receive 'Alternative Nobel'  ABC News\", 'published date': 'Mon, 02 Oct 2023 14:54:56 GMT', 'url': 'https://consent.google.com/m?continue=https://news.google.com/rss/articles/CBMifmh0dHBzOi8vYWJjbmV3cy5nby5jb20vSW50ZXJuYXRpb25hbC93aXJlU3RvcnkvY2FtYm9kaWFuLWNvdXJ0LWJhcnMtZW52aXJvbm1lbnRhbC1hY3RpdmlzdHMtdHJhdmVsaW5nLXN3ZWRlbi1yZWNlaXZlLTEwMzY1ODczMtIBggFodHRwczovL2FiY25ld3MuZ28uY29tL2FtcC9JbnRlcm5hdGlvbmFsL3dpcmVTdG9yeS9jYW1ib2RpYW4tY291cnQtYmFycy1lbnZpcm9ubWVudGFsLWFjdGl2aXN0cy10cmF2ZWxpbmctc3dlZGVuLXJlY2VpdmUtMTAzNjU4NzMy?oc%3D5&gl=SE&m=0&pc=n&cm=2&hl=en-US&src=1', 'publisher': {'href': 'https://abcnews.go.com', 'title': 'ABC News'}}, {'title': 'Turkey urged by France to deliver on Sweden NATO bid - The New Arab', 'description': 'Turkey urged by France to deliver on Sweden NATO bid  The New Arab', 'published date': 'Thu, 28 Sep 2023 17:30:08 GMT', 'url': 'https://consent.google.com/m?continue=https://news.google.com/rss/articles/CBMiSGh0dHBzOi8vd3d3Lm5ld2FyYWIuY29tL25ld3MvdHVya2V5LXVyZ2VkLWZyYW5jZS1kZWxpdmVyLXN3ZWRlbi1uYXRvLWJpZNIBTGh0dHBzOi8vd3d3Lm5ld2FyYWIuY29tL25ld3MvdHVya2V5LXVyZ2VkLWZyYW5jZS1kZWxpdmVyLXN3ZWRlbi1uYXRvLWJpZD9hbXA?oc%3D5&gl=SE&m=0&pc=n&cm=2&hl=en-US&src=1', 'publisher': {'href': 'https://www.newarab.com', 'title': 'The New Arab'}}, {'title': 'EXPLAINED: Will Denmark and Sweden retain SAS stakes after ... - The Local Denmark', 'description': 'EXPLAINED: Will Denmark and Sweden retain SAS stakes after ...  The Local Denmark', 'published date': 'Tue, 03 Oct 2023 12:10:39 GMT', 'url': 'https://consent.google.com/m?continue=https://news.google.com/rss/articles/CBMiZmh0dHBzOi8vd3d3LnRoZWxvY2FsLmRrLzIwMjMxMDAzL2V4cGxhaW5lZC13aWxsLWRlbm1hcmstYW5kLXN3ZWRlbi1yZXRhaW4tc2FzLXN0YWtlcy1hZnRlci1iaWRkaW5nLXdhctIBAA?oc%3D5&gl=SE&m=0&pc=n&cm=2&hl=en-US&src=1', 'publisher': {'href': 'https://www.thelocal.dk', 'title': 'The Local Denmark'}}]\n",
      "-----\n",
      "<newspaper.article.Article object at 0x121eeb250>\n",
      "-----\n",
      "<newspaper.article.Article object at 0x121ee8ac0>\n",
      "-----\n",
      "<newspaper.article.Article object at 0x121eeb250>\n",
      "-----\n",
      "<newspaper.article.Article object at 0x121ee8ac0>\n",
      "-----\n",
      "<newspaper.article.Article object at 0x121eeb250>\n",
      "-----\n",
      "<newspaper.article.Article object at 0x121ee8ac0>\n",
      "-----\n",
      "<newspaper.article.Article object at 0x121eeb250>\n"
     ]
    },
    {
     "name": "stderr",
     "output_type": "stream",
     "text": [
      "10/05/2023 04:17:57 PM - Article `download()` failed with HTTPSConnectionPool(host='abcnews.go.com', port=443): Max retries exceeded with url: /International/wireStory/cambodian-court-bars-environmental-activists-traveling-sweden-receive-103658732 (Caused by NewConnectionError('<urllib3.connection.HTTPSConnection object at 0x121ee9510>: Failed to establish a new connection: [Errno 8] nodename nor servname provided, or not known')) on URL https://consent.google.com/m?continue=https://news.google.com/rss/articles/CBMifmh0dHBzOi8vYWJjbmV3cy5nby5jb20vSW50ZXJuYXRpb25hbC93aXJlU3RvcnkvY2FtYm9kaWFuLWNvdXJ0LWJhcnMtZW52aXJvbm1lbnRhbC1hY3RpdmlzdHMtdHJhdmVsaW5nLXN3ZWRlbi1yZWNlaXZlLTEwMzY1ODczMtIBggFodHRwczovL2FiY25ld3MuZ28uY29tL2FtcC9JbnRlcm5hdGlvbmFsL3dpcmVTdG9yeS9jYW1ib2RpYW4tY291cnQtYmFycy1lbnZpcm9ubWVudGFsLWFjdGl2aXN0cy10cmF2ZWxpbmctc3dlZGVuLXJlY2VpdmUtMTAzNjU4NzMy?oc%3D5&gl=SE&m=0&pc=n&cm=2&hl=en-US&src=1\n"
     ]
    },
    {
     "name": "stdout",
     "output_type": "stream",
     "text": [
      "-----\n",
      "None\n",
      "-----\n",
      "<newspaper.article.Article object at 0x121eeb4c0>\n",
      "-----\n",
      "<newspaper.article.Article object at 0x121ee8400>\n",
      "['CNN —\\n\\nSweden’s Prime Minister Ulf Kristersson said he will meet the national army and police chiefs on Friday to combat a surge in gang violence', ' as the country reels from record shooting deaths this month.', '\\n\\n“Tomorrow I will meet the national police chief and the commander in chief to see how the defense force can help the police in their work against the criminal gangs', '” Kristersson said in an address to the nation on Thursday.', '\\n\\n“I hope all parties in the Swedish parliament can come together in support of those strong and pattern-breaking actions that need to be taken.', '”\\n\\nThe Scandinavian nation has been rocked by a record number of shootings this month', ' amid a spread of gang violence from larger urban areas to smaller towns', ' Reuters reported.', '\\n\\nThere were 11 gun killings in September', ' making it the deadliest month since December 2019.', ' Police said about 30', '000 people in Sweden are directly involved with or have links to gang crime', ' according to the news agency.', '\\n\\nOn Wednesday', ' three people – two men and a woman – were killed in just 12 hours in incidents related to gang violence near the Swedish capital', ' Stockholm', ' Swedish police told CNN.', '\\n\\nChildren and innocent people are affected by the serious violence', ' Kristersson added.', '\\n\\n“I can’t emphasize enough how serious the situation is.', ' Sweden has never seen anything like it', ' no other country in Europe is experiencing anything like this', '” the Swedish prime minister said.', '\\n\\n“We will hunt the gangs', ' and we will defeat the gangs.', ' We will take them to court.', ' If they’re Swedish citizens they will be locked up for a long time in prison and if they are foreign citizens', ' they will also be expelled.', '”A police officer stands next to police cars at the site of a suspected crime next to an apartment block in Hasselby', ' northwest Stockholm', ' Sweden November 15', ' 2021.', ' Jonas Ekstromer/ TT News via REUTERS/File Photo Acquire Licensing Rights\\n\\nSTOCKHOLM', \" Sept 29 (Reuters) - Sweden's government said on Friday it would clear the way for the military to provide greater assistance to the police in combating a crime wave that has rocked the country and left 12 people dead in September alone.\", '\\n\\nShootings have become an almost daily occurrence in Sweden - some carried out by teenagers - with most of the violence blamed on gangs.', '\\n\\nSwedish law currently prohibits the military helping the police in any situation where the use of force could be necessary except in the case of terrorist attacks or war.', '\\n\\nFollowing a meeting with the heads of the police and armed forces', ' Prime Minister Ulf Kristersson said the two would now have an official mandate to explore ways to cooperate.', '\\n\\nThe government will also look at changing the law to widen the circumstances in which the police can request military help', ' though it gave no specific details.', '\\n\\n\"The wave of violence is.', '.', '.', ' unprecedented in Sweden', ' but it is also unprecedented in Europe', ' no other country has a situation like the one we have', '\" he told a news conference.', '\\n\\nThe government said it wanted the military and police to help each other on logistics', ' IT-forensics', ' bomb-expertise and analytics which could already happen under current laws.', '\\n\\nSuccessive governments have boosted funding for the police and the criminal justice system and toughened sentences for violent crimes but so far with little noticeable effect.', '\\n\\nKristersson said the government had received offers of help from across the Nordic region', ' adding that his counterparts in Norway', ' Finland and Denmark did not want \"Swedish gang crime to get a foothold\" in their countries.', '\\n\\nEleven people have been fatally shot this month and one was killed by a bomb', ' making September the deadliest month since December 2019.', '\\n\\nSixty two people were shot dead in Sweden last year and police figures show 42 deaths so far this year.', '\\n\\nReporting by Johan Ahlander and Simon Johnson Editing by Gareth Jones\\n\\nOur Standards: The Thomson Reuters Trust Principles.', 'What is included in my trial?\\n\\nDuring your trial you will have complete digital access to FT.', 'com with everything in both of our Standard Digital and Premium Digital packages.', '\\n\\nStandard Digital includes access to a wealth of global news', ' analysis and expert opinion.', ' Premium Digital includes access to our premier business column', ' Lex', ' as well as 15 curated newsletters covering key business themes with original', ' in-depth reporting.', ' For a full comparison of Standard and Premium Digital', ' click here.', '\\n\\nChange the plan you will roll onto at any time during your trial by visiting the “Settings & Account” section.', '\\n\\nWhat happens at the end of my trial?\\n\\nIf you do nothing', ' you will be auto-enrolled in our premium digital monthly subscription plan and retain complete access for 709 kr.', ' per month.', '\\n\\nFor cost savings', ' you can change your plan at any time online in the “Settings & Account” section.', ' If you’d like to retain your premium access and save 20%', ' you can opt to pay annually at the end of the trial.', '\\n\\nYou may also opt to downgrade to Standard Digital', ' a robust journalistic offering that fulfils many user’s needs.', ' Compare Standard and Premium Digital here.', '\\n\\nAny changes made can be done at any time and will become effective at the end of the trial period', ' allowing you to retain full access for 4 weeks', ' even if you downgrade or cancel.', 'STOCKHOLM/TORONTO', ' Sept 28 (Reuters) - Swedish lithium-ion battery producer Northvolt said on Thursday it would open a $5.', '2 billion gigafactory in Quebec', ' the largest ever investment in the Canadian province and the latest in electric vehicle battery manufacturing capacity in the country.', '\\n\\nThe first phase of the construction of the Northvolt Six factory just outside Montreal will begin this year and it is expected to be operational in 2026.', '\\n\\nNorthvolt will invest $3.', '2 billion of the total with the local and federal government each contributing $1 billion', ' Northvolt Co-Founder Paolo Cerruti told Reuters.', '\\n\\nThe first phase will provide 30 gigawatt hours (GWh) of production capacity', ' before eventually expanding to 60 GWh with investments approaching $9 billion', ' said Cerruti', ' who will lead the project as CEO of Northvolt North America.', '\\n\\nNorthvolt already has several European factories and is among a handful of players building a domestic battery industry to fight off the dominance of Asian manufacturers.', \"\\n\\nIt has raised more than $9 billion in debt and equity since 2017 in its bid to become Europe's biggest battery manufacturer\", ' including $1.', '2 billion last month from investors including Canada Pension Plan and Ontario Municipal Employees Retirement System.', '\\n\\n\"We looked at 70 different sites at the beginning of this process', '\" Cerruti said.', ' \"We were also looking at the United States but eventually Canada made it for the first factory.', '\"\\n\\nHe pointed to the availability of sustainable energy', ' access to skilled workers', ' proximity to natural resources and other factors such as the attitude of the governments as reasons for the decision.', '\\n\\nThe $369-billion U.', 'S.', ' Inflation Reduction Act (IRA) passed last year has prompted companies including Northvolt to look across the Atlantic', ' attracted by hefty subsidies and cheaper energy.', '\\n\\n\"IRA took the industry by surprise', '\" Cerruti said', ' adding Northvolt had decided to put together a site selection team around a year ago', ' accelerating the process earlier in 2023.', '\\n\\nNorthvolt has more than $55 billion worth of contracts with mainly European customers such as BMW (BMWG.', 'DE)', ' Scania [RIC:RIC:SCVSA.', 'UL]', ' Volkswagen (VOWG_p.', 'DE) and Volvo Cars (VOLCARb.', 'ST).', '\\n\\nCerruti said the company had also secured an anchor customer in North America', ' but declined to name them.', '\\n\\n\"This size of investment and project can not happen if you don\\'t have an anchor customer', '\" he said.', '\\n\\nReporting by Supantha Mukherjee in Stockholm and Divya Rajagopal in Toronto; Editing by Kirsten Donovan\\n\\nOur Standards: The Thomson Reuters Trust Principles.', '“Menendez being out of the picture is an advantage', '” Turkish President Recep Tayyip Erdoğan told reporters on September 26.', ' Erdoğan said this just days after Senator Robert Menendez (D-NJ)', ' who is facing federal charges of bribery', ' announced that he would step down temporarily as Senate Foreign Relations Committee chairman.', '\\n\\nEven if he does not resign—which many of his Democratic colleagues are now calling for him to do—Menendez’s departure from the powerful position seems to have already set in motion changes for the US-Turkey relationship.', ' Throughout his time as chairman', ' Menendez was sharply critical of Turkey and more favorable toward pro-Greek and pro-Armenian causes.', '\\n\\nWhat could Menendez’s departure as committee chair change? After all', ' the basic structure of the US-Turkey relationship remains the same.', ' Turkey is', ' as it has long been', ' a strategically important but challenging ally for the United States.', ' Concerns over human rights and democracy in Turkey', ' as well as over its relations with Russia', ' are widely shared among US lawmakers', ' but they are weighed against the country’s positive contributions to NATO (including with the Alliance’s second-largest military', ' which is conflict tested)', ' its support for Ukraine', ' its pivotal position for regional energy security', ' and more.', '\\n\\nThis balanced spirit was encapsulated in a letter signed by a bipartisan group of twenty-seven senators in February.', ' Addressed to US President Joe Biden', ' the letter stated the lawmakers’ opposition to the sale of F-16 fighter jets for as long as Turkey held up Sweden’s (and at that time Finland’s) accession to NATO.', ' While it was not stated outright in the letter', ' a clear implication was that Turkey’s removal of this obstacle could pave the way for the United States to approve the sale of the aircraft.', '\\n\\nMenendez was notably not among the letter’s signatories.', '\\n\\nSince negotiations on Sweden’s accession began', ' it’s been widely assumed—but not openly stated—that the sale of F-16s would be a decisive factor in Turkey’s calculus.', '\\n\\nMenendez’s departure means a potential change because as chair of the Senate Foreign Relations Committee he held an effective veto over foreign arms sales', ' and he signaled his opposition to the sale of F-16s to Turkey early and often.', ' He maintained this position even after the breakthrough at July’s NATO Summit in Vilnius', ' where Erdoğan indicated that he would send the ratification of Sweden’s accession to parliament.', ' Asked after the NATO Summit about the issue', ' Menendez cited as a concern that Turkey’s parliament had not yet ratified Sweden’s NATO accession', ' but he also listed other grievances', ' including Turkey’s disputes with Greece.', ' He appeared unwilling to budge on the issue', ' his reasons seemingly marshaled to justify a decision that had already been made.', '\\n\\nMenendez’s departure as chair does not guarantee that the United States will now sell Turkey F-16s', ' but it does open space for a fresh look at the apparent deal on the table.', ' Since negotiations on Sweden’s accession began', ' it’s been widely assumed—but not openly stated—that the sale of F-16s would be a decisive factor in Turkey’s calculus.', ' For a year', ' diplomats on both sides took pains to deny the two issues were linked.', ' However', ' Erdoğan abandoned all pretext on September 26', ' stating that “if they [the United States] keep their promises', ' our parliament will keep its own promise as well.', '” In a statement at the Vilnius summit', ' Turkey has committed to sending Sweden’s accession to parliament and working to ensure its ratification.', '\\n\\nThis apparent recognition that the F-16 sale and Sweden’s NATO accession vote in Turkey’s parliament are linked is a positive step.', ' The risk now is that questions of sequencing or other issues devolve into a standoff in which Turkey is waiting for movement from Congress', ' while Congress waits for movement from Turkey’s parliament.', '\\n\\nIf Turkey cannot secure F-16s and instead looks to source its jets elsewhere', ' then the United States and Turkey could face a broader rupture in defense ties that may last a generation or more.', '\\n\\n“I think it’s more likely it’s going to be approved', '” explained House Foreign Affairs Committee Chairman Michael McCaul (R-TX) on September 27 about a possible deal on F-16s.', ' But', ' he added', ' “We’re saying we’re not going to consider this if you’re going to play hardball against Sweden.', '” On September 28', ' new Senate Foreign Relations Committee Chairman Ben Cardin (D-MD) said that he still had to talk to the Biden administration about the F-16 deal', ' “but there are other issues in addition to just NATO accession” that need to be resolved.', ' The White House has been notably silent on the issue since Menendez’s departure.', ' Nor did Biden meet with Erdoğan earlier in September at the United Nations General Assembly in New York', ' following a pattern of minimizing leader-to-leader contact with the Turkish president compared with previous administrations.', '\\n\\nTime is running out.', ' Turkey’s parliament returned from recess this week', ' and the longer the situation goes without progress', ' the more paralyzed and corrosive it could become.', ' The Biden administration', ' through its diplomats and its outreach to Congress', ' should work diligently to overcome this dilemma.', '\\n\\nBeyond the singular issue of Sweden’s accession—which has been awaiting final ratification from Turkey and Hungary for more than a year—the F-16 deal holds strategic importance for the US-Turkey relationship.', ' Defense cooperation has traditionally been a main cornerstone of bilateral relations between the United States and Turkey.', ' That cooperation', ' however', ' has been damaged at the strategic level by disagreements over policy toward Syria and imperiled further by Turkey’s purchase of the Russian S-400 air-defense system in 2017.', ' The United States responded to the purchase by removing Turkey from the F-35 program in 2019 and imposing sanctions on Ankara in 2020.', ' If Turkey cannot secure F-16s and instead looks to source its jets elsewhere', ' then the United States and Turkey could face a broader rupture in defense ties that may last a generation or more.', ' Such an outcome would not be in the strategic interests of Turkey or the United States.', '\\n\\nGrady Wilson is associate director at the Atlantic Council IN TURKEY.', ' Follow him on Twitter @GradysWilson.', '\\n\\nFurther reading\\n\\nImage: US Senator Robert Menendez (D-NJ) delivers remarks', ' after he and his wife Nadine Menendez were indicted on bribery offenses in connection with their corrupt relationship with three New Jersey businessmen', ' in Union City', ' New Jersey', ' U.', 'S.', '', ' September 25', ' 2023.', ' REUTERS/Mike SegarThree scientists won the Nobel Prize in chemistry Wednesday for their work on quantum dots — tiny particles just a few nanometers in diameter that can release very bright colored light and whose applications in everyday life include electronics and medical imaging.', '\\n\\nMoungi Bawendi of MIT', ' Louis Brus of Columbia University', ' and Alexei Ekimov of Nanocrystals Technology Inc.', '', ' were honored for their work with the tiny particles that “have unique properties and now spread their light from television screens and LED lamps', '” according to the Royal Swedish Academy of Sciences', ' which announced the award in Stockholm.', '\\n\\nThe suspense surrounding the academy’s decision took an unusual turn when Swedish media reported the winners several hours before the prize was announced.', ' The advance notice apparently came from a news release sent out early by mistake.', 'WHAT DISCOVERY WON THE NOBEL PRIZE IN CHEMISTRY?\\n\\nQuantum dots are tiny inorganic particles that glow a range of colors from red to blue when exposed to light.', ' The color they emit depends upon the size of the particle.', '\\n\\nScientists can engineer the dots from materials that include gold to graphene to cadmium', ' and create their color by controlling their size.', ' The tiniest particles', ' in which electrons are most tightly confined', ' emit blue light.', ' Slightly larger particles', ' in which electrons bounce around a longer wavelength', ' emit red light.', '\\n\\nChemists sometimes compare the size of the particle itself to a confining box.', '\\n\\nThe underlying “particle in a box” theory of quantum mechanics was first described nearly a century ago.', ' But it wasn’t until several decades later that scientists could manufacture quantum dots in a lab.', '\\n\\nIn the 1980s', ' Ekimov', ' 78', ' and Brus', ' 80', ' honed the theory and developed early laboratory techniques for creating particles that emit varying colors by adjusting sizes.', ' In 1993', ' Bawendi', ' 62', ' developed new chemical methods for producing the particles quickly and uniformly — which soon enabled a variety of scalable commercial applications', ' including in electronics displays.', '\\n\\nJudy Giordan', ' president of the American Chemical Society', ' said she was thrilled at this year’s winners.', '\\n\\n“What we care about a lot in chemistry is being able to make and tailor novel structures and architectures to solve problems that help people and the planet', '” Giordan said.', '\\n\\nRigoberto Advincula', ' a materials chemist at Oak Ridge National Laboratory in Tennessee', ' said the work helped bridge the fields of physics and chemistry', ' adding: “This technology is very easy to reproduce — that’s why it became so popular and so widespread.', '”\\n\\nToday quantum dots are commonly used in electronics displays and biomedical imaging.', ' The florescent quality of the particles allows researchers to track how drugs are delivered within the human body', ' as well as to study the precise location and growth of a tumor', ' for example.', 'WERE THE WINNERS ANNOUNCED PREMATURELY?\\n\\nSwedish media reported hours before Wednesday’s announcement that the Royal Swedish Academy of Sciences had sent out a news release that identified Bawendi', ' Brus and Ekimov as the latest Nobel laureates.', '\\n\\nPublic broadcaster SVT said the release said they were receiving the prize for the “discovery and synthesis of quantum dots.', '”\\n\\nAfter officially announcing the three winners', ' Secretary-General Hans Ellegren said the Swedish academy would investigate how the information got out in advance.', '\\n\\n“There was a press release sent out for still unknown reasons.', ' We have been very active this morning to find out exactly what happened', '” he said.', ' “This is very unfortunate and we deeply regret what happened.', '”\\n\\nThe academy', ' which awards the physics', ' chemistry and economics prizes', ' asks for nominations a year in advance from thousands of university professors and other scholars around the world.', '\\n\\nA committee for each prize then discusses candidates in a series of meetings before presenting one or more proposals to the full academy for a vote.', ' The deliberations', ' including the names of nominees other than the winners', ' are kept confidential for 50 years.', 'HOW DID THE WINNERS REACT?\\n\\nBawendi told the news conference he was “very surprised', ' sleepy', ' shocked', ' unexpected and very honored.', '”\\n\\nAsked about the leak', ' he said he didn’t know he’d been made a Nobel laureate until he was called by the academy.', '\\n\\nBawendi said he was not thinking about the possible applications of his work when he started researching quantum dots.', '\\n\\n“The motivation really is the basic science.', ' A basic understanding', ' the curiosity of how does the world work? And that’s what drives scientists and academic scientists to do what they do', '” he said.', '\\n\\nBrus', ' a professor emeritus at Columbia', ' said he didn’t pick up the phone when the early morning call came from the Swedish academy to notify him.', '\\n\\n“It was ringing during the night', ' but I didn’t answer it because I’m trying to get some sleep', ' basically', '” he told The Associated Press.', ' He finally saw the news online when he got up around 6 a.', 'm.', '\\n\\n“I certainly was not expecting this', '” Brus said.', '\\n\\nBrus said he was glad to see recognition for the area of chemistry he practices.', ' The practical applications of quantum dots', ' like creating the colors in flatscreen TVs', ' are something he was hoping for when he started the work decades ago', ' he said.', '\\n\\n“Basic research is extremely hard to predict exactly how it’s going to work out', '” Brus said.', ' “It’s more for the knowledge base than it is for the actual materials.', ' But in this case', ' it’s both.', '”\\n\\nEkimov is the former chief scientist at Nanocrystals Technology', ' a company based in New York where he started working in 1999.', ' The Swedish academy credited him with demonstrating in the early 1980s that the size of copper chloride nanoparticles affected the colors in glass.', '\\n\\n“It was really nice that we got it after 40 years of work', '” Ekimov told the AP.', ' His first publication on the topic was in 1981.', '\\n\\nOn Tuesday', ' the physics prize went to French-Swedish physicist Anne L’Huillier', ' French scientist Pierre Agostini and Hungarian-born Ferenc Krausz for producing the first split-second glimpse into the super-fast world of spinning electrons.', '\\n\\nOn Monday', ' Hungarian-American Katalin Karikó and American Drew Weissman won the Nobel Prize in medicine for discoveries that enabled the creation of mRNA vaccines against COVID-19.', '\\n\\nThe prizes in literature', ' peace and economics follow', ' with one announcement every weekday until Monday.', '\\n\\nThe Nobel Prizes carry a cash award of 11 million Swedish kronor ($1 million) from a bequest left by the prize’s creator', ' Swedish inventor Alfred Nobel.', '\\n\\n___\\n\\nLarson reported from Washington.', ' Ngowi reported from Cambridge', ' Massachusetts.', ' Mike Corder in The Hague', ' Netherlands', ' Maddie Burakoff in New York and Shelby Lum in New York contributed.', 'MADRID', ' Sept 29 (Reuters) - Spanish mobile phone tower operator Cellnex (CLNX.', 'MC) said on Friday it sold a 49% stake in its Swedish and Danish units to infrastructure investor Stonepeak for 730 million euros ($772 million) as part of efforts to reduce its debt.', '\\n\\nCellnex will keep a 51% stake in the holding company that owns all of its businesses in Denmark and Sweden', ' while Stonepeak will own the remainder', ' Cellnex said in a statement.', '\\n\\nThe deal is locked for five years after which each company will have preemptive rights to buy if the other seeks to sell', ' Cellnex said', ' adding that after the eighth year Cellnex will have the right to buy back the assets and Stonepeak will have the right to sell to a third party.', '\\n\\nThe market reacted positively to the news', ' sending the share price 4.', '2% up in early trading.', '\\n\\nEarlier this year', ' Cellnex said it was shifting its strategy away from the aggressive acquisition of mobile phone mast networks that made it one of the top players in Europe to focus instead on reducing its debt and obtaining an investment grade from the main rating agencies by the end of next year.', \"\\n\\nThe deal will not change the overall company's balance sheet\", ' but will have a significant impact on the path to investment grade', ' Jefferies said in a note to investors.', '\\n\\nThe transaction is expected to be completed by the first quarter of next year.', '\\n\\nInvestment bank Nomura', ' Guggenheim Securities and law firm Herbert Smith Freehills advised Stonepeak', ' while AZ Capital and Baker and McKenzie advised Cellnex.', '\\n\\nSeparately', ' Cellnex said deputy CEO Alex Mestre would leave at the end of the year as part of a reshuffle of top management.', ' That includes creating the post of chief operating officer', ' which will be taken by Simone Battiferri', ' and a new strategy department which will be headed Vincent Cuvillier.', '\\n\\n($1 = 0.', '9450 euros)\\n\\nReporting by Inti Landauro; additional reporting by Matteo Allievi and Joao Manuel Mauricio; Editing by Christina Fincher and Mark Potter\\n\\nOur Standards: The Thomson Reuters Trust Principles.', 'Turkey', \" despite lifting its veto against Sweden's entry into NATO\", \" has been slow to ratify the Scandinavian country's membership.\", \"\\n\\nFrance urged Turkey and Hungary on Thursday to come through on Sweden's stalled bid to join NATO.\", \"\\n\\nHungary and Turkey in July lifted their vetoes against Sweden's entry into the Atlantic alliance\", ' but have been slow to ratify its membership.', '\\n\\n\"We would like to see Sweden in NATO and we would like to see Turkey and Hungary delivering on what they agreed', '\" French Foreign Minister Catherine Colonna told reporters in Helsinki.', '\\n\\nHungarian Prime Minister Viktor Orban this week said that ratifying Sweden\\'s NATO bid was not \"urgent\"', ' accusing the Nordic country of having challenged the country\\'s \"democratic nature\".', '\\n\\nFor his part', ' Turkish President Recep Tayyip Erdogan indicated in July that ratification by the Turkish parliament would not take place before October.', '\\n\\nFor months', ' Erdogan has been putting pressure on Sweden to take action against the Quran desecrations that have strained relations between the two countries.', \"\\n\\nFinland became NATO's 31st member country in April\", ' after three decades of military non-alignment and in the midst of the war in Ukraine.', 'Advertisement\\n\\nWhat\\'s happening this Tuesday?\\n\\nThe company was set to hold a press conference in Stockholm on Tuesday evening in order to give a \"status update\" on its efforts to raise roughly 9.', '5 billion kroner in new capital and reduce its heavy debt by some 20 billion kroner.', '\\n\\nThe press conference could mean bad news for existing shareholders', ' with chief executive Anko van der Werff warning in an interview with the Swedish Dagens Industri that', ' after the reconstruction', ' there would \"only be a little value left for current shareholders and lenders', ' if anything at all\".', '\\n\\nWho is likely to put more money into the airline?\\n\\nAccording to Reuters and the Norwegian newspaper Aftenposten', ' a bidding war is now looming between the private equity giant Apollo Management', ' which made a $700 million loan to the company when it filed for bankruptcy protection in the US last year', ' and an unnamed second bidder.', '\\n\\nPossible bidders suggested by Reuters include the Wallenberg Foundation', \" one the investment vehicles of Sweden's powerful Wallenberg family\", ' which currently holds a 3.', '4 percent stake in the airline', ' and the Danish pension fund ATP', ' which has a stake in Copenhagen Airport.', '\\n\\nPrivate Swedish investor Gerald Engström holds a 0.', '8 percent stake.', '\\n\\nAdvertisement\\n\\nWhat will happen to the stakes held by the Swedish and Danish governments?\\n\\nThe Danish state', ' which currently owns around 22 percent of the airline', ' has indicated that it is ready to increase its shareholding to up to 29.', '9 percent to get the airline back on track', ' meaning it may team up with Apollo or the unnamed rival bidder.', '\\n\\nThe Swedish state', ' which also holds a 22 percent stake', ' has so far been unwilling to inject more money into the company', ' meaning it is likely to see its shareholding reduced.', '\\n\\n\"The Swedish state\\'s share is going to be significantly less', ' as Sweden is not willing to buy new shares', '\" Jacob Pedersen', \" chief equity analyst at Denmark's Sydbank\", ' told the TT newswire.', ' \"It might have some of its debt converted into new shares though.', '\"\\n\\nPedersen said he expected the Danish state to put in additional funds', ' partly to safeguard the position of Copenhagen as a major airport.', '\\n\\n\"My best bet is that the Danish state will take somewhere between 22 and 30 percent of the ownership', '\" he said.', ' \"I also think that it is most likely that it will be together with the large capital fund Apollo.', '\"\\n\\nHe said he also suspected that ATP', \" Denmark's pension giant\", ' might also get involved', ' as it is a major investor in Copenhagen Airport.', '\\n\\nAdvertisement\\n\\nWhat will happen to other shareholders and lenders?\\n\\nSmall retail shareholders are likely to see their holdings heavily diluted.', '\\n\\nSverre Linton', ' chief legal officer at Aktiespararna', ' a retail investor lobby group', ' warned that any investment in the airline was fraught with risk.', '\\n\\n\"SAS is and has been for many years one of the riskiest investments you can make in the main index of the Stockholm Stock Exchange', '\" he said.', ' \"If you are an existing share holder in the current situation', ' you should probably not count on getting anything at all out of this reconstruction.', '\"\\n\\nSAS\\'s shares rose 20 percent today after the broadcaster TV2 reported that the Danish state was ready to inject additional cash into the company to maintain its share.', '.']\n"
     ]
    }
   ],
   "source": [
    "text = gen_article_text(\"Sweden\", \"prod\")\n",
    "# Get segments from txt by splitting on .\n",
    "segments =  text.split('.')\n",
    "# Put the . back in\n",
    "segments = [segment + '.' for segment in segments]\n",
    "# Further split by comma\n",
    "segments = [segment.split(',') for segment in segments]\n",
    "# Flatten\n",
    "segments = [item for sublist in segments for item in sublist]\n",
    "\n",
    "print(segments)"
   ]
  },
  {
   "cell_type": "code",
   "execution_count": 22,
   "metadata": {},
   "outputs": [],
   "source": [
    "def create_sentences(segments, MIN_WORDS, MAX_WORDS):\n",
    "    \n",
    "  # Combine the non-sentences together\n",
    "  sentences = []\n",
    "\n",
    "  is_new_sentence = True\n",
    "  sentence_length = 0\n",
    "  sentence_num = 0\n",
    "  sentence_segments = []\n",
    "\n",
    "  for i in range(len(segments)):\n",
    "    if is_new_sentence == True:\n",
    "      is_new_sentence = False\n",
    "    # Append the segment\n",
    "    sentence_segments.append(segments[i])\n",
    "    segment_words = segments[i].split(' ')\n",
    "    sentence_length += len(segment_words)\n",
    "    \n",
    "    # If exceed MAX_WORDS, then stop at the end of the segment\n",
    "    # Only consider it a sentence if the length is at least MIN_WORDS\n",
    "    if (sentence_length >= MIN_WORDS and segments[i][-1] == '.') or sentence_length >= MAX_WORDS:\n",
    "      sentence = ' '.join(sentence_segments)\n",
    "      sentences.append({\n",
    "        'sentence_num': sentence_num,\n",
    "        'text': sentence,\n",
    "        'sentence_length': sentence_length\n",
    "      })\n",
    "      # Reset\n",
    "      is_new_sentence = True\n",
    "      sentence_length = 0\n",
    "      sentence_segments = []\n",
    "      sentence_num += 1\n",
    "\n",
    "  return sentences\n",
    "\n",
    "def create_chunks(sentences, CHUNK_LENGTH, STRIDE):\n",
    "\n",
    "  sentences_df = pd.DataFrame(sentences)\n",
    "  \n",
    "  chunks = []\n",
    "  for i in range(0, len(sentences_df), (CHUNK_LENGTH - STRIDE)):\n",
    "    chunk = sentences_df.iloc[i:i+CHUNK_LENGTH]\n",
    "    chunk_text = ' '.join(chunk['text'].tolist())\n",
    "    \n",
    "    chunks.append({\n",
    "      'start_sentence_num': chunk['sentence_num'].iloc[0],\n",
    "      'end_sentence_num': chunk['sentence_num'].iloc[-1],\n",
    "      'text': chunk_text,\n",
    "      'num_words': len(chunk_text.split(' '))\n",
    "    })\n",
    "    \n",
    "  chunks_df = pd.DataFrame(chunks)\n",
    "  return chunks_df.to_dict('records')\n",
    "\n",
    "def parse_title_summary_results(results):\n",
    "  out = []\n",
    "  for e in results:\n",
    "    e = e.replace('\\n', '')\n",
    "    if '|' in e:\n",
    "      processed = {'title': e.split('|')[0],\n",
    "                    'summary': e.split('|')[1][1:]\n",
    "                    }\n",
    "    elif ':' in e:\n",
    "      processed = {'title': e.split(':')[0],\n",
    "                    'summary': e.split(':')[1][1:]\n",
    "                    }\n",
    "    elif '-' in e:\n",
    "      processed = {'title': e.split('-')[0],\n",
    "                    'summary': e.split('-')[1][1:]\n",
    "                    }\n",
    "    else:\n",
    "      processed = {'title': '',\n",
    "                    'summary': e\n",
    "                    }\n",
    "    out.append(processed)\n",
    "  return out"
   ]
  },
  {
   "cell_type": "code",
   "execution_count": 23,
   "metadata": {},
   "outputs": [],
   "source": [
    "sentences = create_sentences(segments, MIN_WORDS=20, MAX_WORDS=80)\n",
    "chunks = create_chunks(sentences, CHUNK_LENGTH=5, STRIDE=1)\n",
    "chunks_text = [chunk['text'] for chunk in chunks]"
   ]
  },
  {
   "cell_type": "code",
   "execution_count": 24,
   "metadata": {},
   "outputs": [],
   "source": [
    "def summarize_stage_1(chunks_text):\n",
    "      \n",
    "  print(f'Start time: {datetime.now()}')\n",
    "\n",
    "  # Prompt to get title and summary for each chunk\n",
    "  map_prompt_template = \"\"\"Firstly, give the following text an informative title. Then, on a new line, write a 75-100 word summary of the following text:\n",
    "  {text}\n",
    "\n",
    "  Return your answer in the following format:\n",
    "  Title | Summary...\n",
    "  e.g. \n",
    "  Why Artificial Intelligence is Good | AI can make humans more productive by automating many repetitive processes.\n",
    "\n",
    "  TITLE AND CONCISE SUMMARY:\"\"\"\n",
    "\n",
    "  map_prompt = PromptTemplate(template=map_prompt_template, input_variables=[\"text\"])\n",
    "\n",
    "  # Define the LLMs\n",
    "  map_llm = OpenAI(temperature=0, model_name = 'text-davinci-003')\n",
    "  map_llm_chain = LLMChain(llm = map_llm, prompt = map_prompt)\n",
    "  map_llm_chain_input = [{'text': t} for t in chunks_text]\n",
    "  # Run the input through the LLM chain (works in parallel)\n",
    "  map_llm_chain_results = map_llm_chain.apply(map_llm_chain_input)\n",
    "\n",
    "  stage_1_outputs = parse_title_summary_results([e['text'] for e in map_llm_chain_results])\n",
    "\n",
    "  print(f'Stage 1 done time {datetime.now()}')\n",
    "\n",
    "  return {\n",
    "    'stage_1_outputs': stage_1_outputs\n",
    "  }"
   ]
  },
  {
   "cell_type": "code",
   "execution_count": 25,
   "metadata": {},
   "outputs": [
    {
     "name": "stdout",
     "output_type": "stream",
     "text": [
      "Start time: 2023-10-05 16:18:11.023999\n",
      "Stage 1 done time 2023-10-05 16:18:19.381829\n"
     ]
    }
   ],
   "source": [
    "# Run Stage 1 Summarizing\n",
    "stage_1_outputs = summarize_stage_1(chunks_text)['stage_1_outputs']\n",
    "# Split the titles and summaries\n",
    "stage_1_summaries = [e['summary'] for e in stage_1_outputs]\n",
    "stage_1_titles = [e['title'] for e in stage_1_outputs]\n",
    "num_1_chunks = len(stage_1_summaries)"
   ]
  },
  {
   "cell_type": "code",
   "execution_count": 26,
   "metadata": {},
   "outputs": [],
   "source": [
    "# Use OpenAI to embed the summaries and titles. Size of _embeds: (num_chunks x 1536)\n",
    "openai_embed = OpenAIEmbeddings()\n",
    "\n",
    "summary_embeds = np.array(openai_embed.embed_documents(stage_1_summaries))\n",
    "title_embeds = np.array(openai_embed.embed_documents(stage_1_titles))"
   ]
  },
  {
   "cell_type": "code",
   "execution_count": 27,
   "metadata": {},
   "outputs": [],
   "source": [
    "# Get similarity matrix between the embeddings of the chunk summaries\n",
    "summary_similarity_matrix = np.zeros((num_1_chunks, num_1_chunks))\n",
    "summary_similarity_matrix[:] = np.nan\n",
    "\n",
    "for row in range(num_1_chunks):\n",
    "  for col in range(row, num_1_chunks):\n",
    "    # Calculate cosine similarity between the two vectors\n",
    "    similarity = 1- cosine(summary_embeds[row], summary_embeds[col])\n",
    "    summary_similarity_matrix[row, col] = similarity\n",
    "    summary_similarity_matrix[col, row] = similarity"
   ]
  },
  {
   "cell_type": "code",
   "execution_count": 28,
   "metadata": {},
   "outputs": [
    {
     "data": {
      "text/plain": [
       "<matplotlib.image.AxesImage at 0x121f17cd0>"
      ]
     },
     "execution_count": 28,
     "metadata": {},
     "output_type": "execute_result"
    },
    {
     "data": {
      "image/png": "[encoded data removed]",
      "text/plain": [
       "<Figure size 640x480 with 1 Axes>"
      ]
     },
     "metadata": {},
     "output_type": "display_data"
    }
   ],
   "source": [
    "# Draw a heatmap with the summary_similarity_matrix\n",
    "plt.figure()\n",
    "# Color scheme blues\n",
    "plt.imshow(summary_similarity_matrix, cmap = 'Blues')"
   ]
  },
  {
   "cell_type": "code",
   "execution_count": 29,
   "metadata": {},
   "outputs": [],
   "source": [
    "# Run the community detection algorithm\n",
    "\n",
    "def get_topics(title_similarity, num_topics = 8, bonus_constant = 0.25, min_size = 3):\n",
    "\n",
    "  proximity_bonus_arr = np.zeros_like(title_similarity)\n",
    "  for row in range(proximity_bonus_arr.shape[0]):\n",
    "    for col in range(proximity_bonus_arr.shape[1]):\n",
    "      if row == col:\n",
    "        proximity_bonus_arr[row, col] = 0\n",
    "      else:\n",
    "        proximity_bonus_arr[row, col] = 1/(abs(row-col)) * bonus_constant\n",
    "        \n",
    "  title_similarity += proximity_bonus_arr\n",
    "\n",
    "  title_nx_graph = nx.from_numpy_array(title_similarity)\n",
    "\n",
    "  desired_num_topics = num_topics\n",
    "  # Store the accepted partitionings\n",
    "  topics_title_accepted = []\n",
    "\n",
    "  resolution = 0.85\n",
    "  resolution_step = 0.01\n",
    "  iterations = 40\n",
    "\n",
    "  # Find the resolution that gives the desired number of topics\n",
    "  topics_title = []\n",
    "  while len(topics_title) not in [desired_num_topics, desired_num_topics + 1, desired_num_topics + 2]:\n",
    "    topics_title = community.louvain_communities(title_nx_graph, weight = 'weight', resolution = resolution)\n",
    "    resolution += resolution_step\n",
    "  topic_sizes = [len(c) for c in topics_title]\n",
    "  sizes_sd = np.std(topic_sizes)\n",
    "  modularity = community.modularity(title_nx_graph, topics_title, weight = 'weight', resolution = resolution)\n",
    "\n",
    "  lowest_sd_iteration = 0\n",
    "  # Set lowest sd to inf\n",
    "  lowest_sd = float('inf')\n",
    "\n",
    "  for i in range(iterations):\n",
    "    topics_title = community.louvain_communities(title_nx_graph, weight = 'weight', resolution = resolution)\n",
    "    modularity = community.modularity(title_nx_graph, topics_title, weight = 'weight', resolution = resolution)\n",
    "    \n",
    "    # Check SD\n",
    "    topic_sizes = [len(c) for c in topics_title]\n",
    "    sizes_sd = np.std(topic_sizes)\n",
    "    \n",
    "    topics_title_accepted.append(topics_title)\n",
    "    \n",
    "    if sizes_sd < lowest_sd and min(topic_sizes) >= min_size:\n",
    "      lowest_sd_iteration = i\n",
    "      lowest_sd = sizes_sd\n",
    "      \n",
    "  # Set the chosen partitioning to be the one with highest modularity\n",
    "  topics_title = topics_title_accepted[lowest_sd_iteration]\n",
    "  print(f'Best SD: {lowest_sd}, Best iteration: {lowest_sd_iteration}')\n",
    "  \n",
    "  topic_id_means = [sum(e)/len(e) for e in topics_title]\n",
    "  # Arrange title_topics in order of topic_id_means\n",
    "  topics_title = [list(c) for _, c in sorted(zip(topic_id_means, topics_title), key = lambda pair: pair[0])]\n",
    "  # Create an array denoting which topic each chunk belongs to\n",
    "  chunk_topics = [None] * title_similarity.shape[0]\n",
    "  for i, c in enumerate(topics_title):\n",
    "    for j in c:\n",
    "      chunk_topics[j] = i\n",
    "            \n",
    "  return {\n",
    "    'chunk_topics': chunk_topics,\n",
    "    'topics': topics_title\n",
    "    }"
   ]
  },
  {
   "cell_type": "code",
   "execution_count": 30,
   "metadata": {},
   "outputs": [
    {
     "name": "stdout",
     "output_type": "stream",
     "text": [
      "Best SD: 1.224744871391589, Best iteration: 0\n"
     ]
    }
   ],
   "source": [
    "# Set num_topics to be 1/4 of the number of chunks, or 8, which ever is smaller\n",
    "num_topics = 4 #min(int(num_1_chunks / 4), 8)\n",
    "topics_out = get_topics(summary_similarity_matrix, num_topics = num_topics, bonus_constant = 0.2)\n",
    "chunk_topics = topics_out['chunk_topics']\n",
    "topics = topics_out['topics']"
   ]
  },
  {
   "cell_type": "code",
   "execution_count": 31,
   "metadata": {},
   "outputs": [
    {
     "data": {
      "image/png": "[encoded data removed]",
      "text/plain": [
       "<Figure size 1000x400 with 1 Axes>"
      ]
     },
     "metadata": {},
     "output_type": "display_data"
    }
   ],
   "source": [
    "# Plot a heatmap of this array\n",
    "plt.figure(figsize = (10, 4))\n",
    "plt.imshow(np.array(chunk_topics).reshape(1, -1), cmap = 'tab20')\n",
    "# Draw vertical black lines for every 1 of the x-axis \n",
    "for i in range(1, len(chunk_topics)):\n",
    "  plt.axvline(x = i - 0.5, color = 'black', linewidth = 0.5)"
   ]
  },
  {
   "cell_type": "code",
   "execution_count": 32,
   "metadata": {},
   "outputs": [],
   "source": [
    "def summarize_stage_2(stage_1_outputs, topics, summary_num_words = 250):\n",
    "  print(f'Stage 2 start time {datetime.now()}')\n",
    "  \n",
    "  # Prompt that passes in all the titles of a topic, and asks for an overall title of the topic\n",
    "  title_prompt_template = \"\"\"Write an informative title that summarizes each of the following groups of titles. Make sure that the titles capture as much information as possible, \n",
    "  and are different from each other:\n",
    "  {text}\n",
    "  \n",
    "  Return your answer in a numbered list, with new line separating each title: \n",
    "  1. Title 1\n",
    "  2. Title 2\n",
    "  3. Title 3\n",
    "\n",
    "  TITLES:\n",
    "  \"\"\"\n",
    "\n",
    "  map_prompt_template = \"\"\"Wite a 75-100 word summary of the following text:\n",
    "    {text}\n",
    "\n",
    "    CONCISE SUMMARY:\"\"\"\n",
    "\n",
    "  combine_prompt_template = 'Write a ' + str(summary_num_words) + \"\"\"-word summary of the following, removing irrelevant information. Finish your answer:\n",
    "  {text}\n",
    "  \"\"\" + str(summary_num_words) + \"\"\"-WORD SUMMARY:\"\"\"\n",
    "\n",
    "  title_prompt = PromptTemplate(template=title_prompt_template, input_variables=[\"text\"])\n",
    "  map_prompt = PromptTemplate(template=map_prompt_template, input_variables=[\"text\"])\n",
    "  combine_prompt = PromptTemplate(template=combine_prompt_template, input_variables=[\"text\"])\n",
    "\n",
    "  topics_data = []\n",
    "  for c in topics:\n",
    "    topic_data = {\n",
    "      'summaries': [stage_1_outputs[chunk_id]['summary'] for chunk_id in c],\n",
    "      'titles': [stage_1_outputs[chunk_id]['title'] for chunk_id in c]\n",
    "    }\n",
    "    topic_data['summaries_concat'] = ' '.join(topic_data['summaries'])\n",
    "    topic_data['titles_concat'] = ', '.join(topic_data['titles'])\n",
    "    topics_data.append(topic_data)\n",
    "    \n",
    "  # Get a list of each community's summaries (concatenated)\n",
    "  topics_summary_concat = [c['summaries_concat'] for c in topics_data]\n",
    "  topics_titles_concat = [c['titles_concat'] for c in topics_data]\n",
    "\n",
    "  # Concat into one long string to do the topic title creation\n",
    "  topics_titles_concat_all = ''''''\n",
    "  for i, c in enumerate(topics_titles_concat):\n",
    "    topics_titles_concat_all += f'''{i+1}. {c}\n",
    "    '''\n",
    "  \n",
    "  # print('topics_titles_concat_all', topics_titles_concat_all)\n",
    "\n",
    "  title_llm = OpenAI(temperature=0, model_name = 'text-davinci-003')\n",
    "  title_llm_chain = LLMChain(llm = title_llm, prompt = title_prompt)\n",
    "  title_llm_chain_input = [{'text': topics_titles_concat_all}]\n",
    "  title_llm_chain_results = title_llm_chain.apply(title_llm_chain_input)\n",
    "  \n",
    "  \n",
    "  # Split by new line\n",
    "  titles = title_llm_chain_results[0]['text'].split('\\n')\n",
    "  # Remove any empty titles\n",
    "  titles = [t for t in titles if t != '']\n",
    "  # Remove spaces at start or end of each title\n",
    "  titles = [t.strip() for t in titles]\n",
    "\n",
    "  map_llm = OpenAI(temperature=0, model_name = 'text-davinci-003')\n",
    "  reduce_llm = OpenAI(temperature=0, model_name = 'text-davinci-003', max_tokens = -1)\n",
    "\n",
    "  # Run the map-reduce chain\n",
    "  docs = [Document(page_content=t) for t in topics_summary_concat]\n",
    "  chain = load_summarize_chain(chain_type=\"map_reduce\", map_prompt = map_prompt, combine_prompt = combine_prompt, return_intermediate_steps = True,\n",
    "                              llm = map_llm, reduce_llm = reduce_llm)\n",
    "\n",
    "  output = chain({\"input_documents\": docs}, return_only_outputs = True)\n",
    "  summaries = output['intermediate_steps']\n",
    "  stage_2_outputs = [{'title': t, 'summary': s} for t, s in zip(titles, summaries)]\n",
    "  final_summary = output['output_text']\n",
    "\n",
    "  # Return: stage_1_outputs (title and summary), stage_2_outputs (title and summary), final_summary, chunk_allocations\n",
    "  out = {\n",
    "    'stage_2_outputs': stage_2_outputs,\n",
    "    'final_summary': final_summary\n",
    "  }\n",
    "  print(f'Stage 2 done time {datetime.now()}')\n",
    "  \n",
    "  return out"
   ]
  },
  {
   "cell_type": "code",
   "execution_count": 33,
   "metadata": {},
   "outputs": [
    {
     "name": "stdout",
     "output_type": "stream",
     "text": [
      "Stage 2 start time 2023-10-05 16:18:23.881693\n",
      "Stage 2 done time 2023-10-05 16:18:38.053068\n"
     ]
    }
   ],
   "source": [
    "# Query GPT-3 to get a summarized title for each topic_data\n",
    "out = summarize_stage_2(stage_1_outputs, topics, summary_num_words = 250)\n",
    "stage_2_outputs = out['stage_2_outputs']\n",
    "stage_2_titles = [e['title'] for e in stage_2_outputs]\n",
    "stage_2_summaries = [e['summary'] for e in stage_2_outputs]\n",
    "final_summary = out['final_summary']"
   ]
  },
  {
   "cell_type": "code",
   "execution_count": 34,
   "metadata": {},
   "outputs": [
    {
     "data": {
      "text/plain": [
       "[{'title': '1. Combatting Gang Violence in Sweden',\n",
       "  'summary': ' Swedish Prime Minister Ulf Kristersson is meeting with the national army and police chiefs to combat a surge in gang violence, with 11 gun killings in September making it the deadliest month since December 2019. Northvolt, a US-based company, has secured $2 billion in investment from Canadian pension plans and Ontario Municipal Employees Retirement System, and has more than $55 billion worth of contracts with mainly European customers. The government is looking at changing the law to widen the circumstances in which the police can request military help.'},\n",
       " {'title': \"2. Impact of Senator Menendez's Departure on US-Turkey Relations\",\n",
       "  'summary': \" Turkish President Recep Tayyip Erdoğan has suggested that the departure of Senator Robert Menendez (D-NJ) from his position as Senate Foreign Relations Committee chairman could lead to changes in the US-Turkey relationship. Negotiations on Sweden's accession to NATO have been linked to the sale of F-16s from the US to Turkey, and Turkey has committed to sending Sweden's accession to parliament and working to ensure its ratification. However, time is running out for a resolution to be reached, and if Turkey cannot secure F-16s, then the US and Turkey could face a broader rupture in defense ties that could last a generation or more.\"},\n",
       " {'title': '3. Nobel Prize Winners in Physics and Chemistry',\n",
       "  'summary': ' Moungi Bawendi, Louis Brus, and Alexei Ekimov were awarded the Nobel Prize in Chemistry for their work on quantum dots, tiny particles that emit different colors of light depending on their size. Judy Giordan and Rigoberto Advincula developed new chemical methods for producing quantum dots quickly and uniformly, which enabled a variety of commercial applications. The winners were surprised and honored to learn of their win, and the Nobel Prizes carry a cash award of 11 million Swedish kronor ($1 million). Hungarian-American Katalin Karikó and American Drew Weissman also won the Nobel Prize in Medicine for discoveries that enabled the creation of mRNA vaccines against COVID-19.'},\n",
       " {'title': '4. Potential Ownership Changes for SAS Airline and Copenhagen Airport',\n",
       "  'summary': \" A bidding war is expected to take place between Apollo Management and an unnamed second bidder for SAS Airline. The Danish state is willing to increase its shareholding to up to 29.9%, while the Swedish state is unwilling to inject more money. Small retail shareholders are likely to see their holdings heavily diluted. Cellnex and Stonepeak have entered into a five-year agreement, with Cellnex keeping a 51% stake. France has urged Turkey and Hungary to ratify Sweden's NATO membership, which they agreed to in July. On Tuesday, a press conference in Stockholm will provide an update on the company's efforts to raise capital and reduce debt.\"}]"
      ]
     },
     "execution_count": 34,
     "metadata": {},
     "output_type": "execute_result"
    }
   ],
   "source": [
    "stage_2_outputs"
   ]
  },
  {
   "cell_type": "code",
   "execution_count": 35,
   "metadata": {},
   "outputs": [
    {
     "data": {
      "text/plain": [
       "['1. Combatting Gang Violence in Sweden',\n",
       " \"2. Impact of Senator Menendez's Departure on US-Turkey Relations\",\n",
       " '3. Nobel Prize Winners in Physics and Chemistry',\n",
       " '4. Potential Ownership Changes for SAS Airline and Copenhagen Airport']"
      ]
     },
     "execution_count": 35,
     "metadata": {},
     "output_type": "execute_result"
    }
   ],
   "source": [
    "stage_2_titles"
   ]
  },
  {
   "cell_type": "code",
   "execution_count": 36,
   "metadata": {},
   "outputs": [
    {
     "data": {
      "text/plain": [
       "\"\\n\\nSwedish Prime Minister Ulf Kristersson is meeting with the national army and police chiefs to combat a surge in gang violence. Northvolt, a US-based company, has secured $2 billion in investment from Canadian pension plans and Ontario Municipal Employees Retirement System. The government is looking at changing the law to widen the circumstances in which the police can request military help. Turkish President Recep Tayyip Erdoğan has suggested that the departure of Senator Robert Menendez (D-NJ) from his position as Senate Foreign Relations Committee chairman could lead to changes in the US-Turkey relationship. Moungi Bawendi, Louis Brus, and Alexei Ekimov were awarded the Nobel Prize in Chemistry for their work on quantum dots. Judy Giordan and Rigoberto Advincula developed new chemical methods for producing quantum dots quickly and uniformly. Katalin Karikó and Drew Weissman also won the Nobel Prize in Medicine for discoveries that enabled the creation of mRNA vaccines against COVID-19. A bidding war is expected to take place between Apollo Management and an unnamed second bidder for SAS Airline. Cellnex and Stonepeak have entered into a five-year agreement, with Cellnex keeping a 51% stake. France has urged Turkey and Hungary to ratify Sweden's NATO membership. On Tuesday, a press conference in Stockholm will provide an update on the company's efforts to raise capital and reduce debt.\""
      ]
     },
     "execution_count": 36,
     "metadata": {},
     "output_type": "execute_result"
    }
   ],
   "source": [
    "final_summary"
   ]
  },
  {
   "cell_type": "code",
   "execution_count": 37,
   "metadata": {},
   "outputs": [],
   "source": [
    "def podify(style, titles, summary, topic, lang):\n",
    "    chat_model = ChatOpenAI(model_name='gpt-3.5-turbo-16k') # Must have set API key as env var\n",
    "    prompt = f'You are gonna generate a transcript for a podcast covering the following topics {titles}. Here is the content of all topics summarised {summary}. The transcription needs to be in {lang}. The transcrption should be in the style of {style}. Start your response with the following: You are listening to an AI-generated podcast on the theme {topic}, provided to you by PerfectPod AI: Be natural and discuss the themes and topics discussed a way that a podcast would. Dont introduce every topic one by one but connect them in a natural way.'\n",
    "    text = chat_model.predict(prompt)\n",
    "    return text\n",
    "\n",
    "def audiofy(voice, text):  \n",
    "    audio_voice = voice.split()[0]\n",
    "    audio = generate(text=text, voice=audio_voice, model=\"eleven_monolingual_v1\", api_key=eleven_api_key)\n",
    "    save(audio, \"news_audio/ADAM.wav\")\n",
    "    return audio\n",
    "\n",
    "# Save audiofile\n",
    "def save_audio(audio, num_minutes):\n",
    "    if not os.path.exists(\"news_audio\"):\n",
    "        os.makedirs(\"news_audio\")\n",
    "\n",
    "    # Handling identical file names\n",
    "    # file_suffix = 0\n",
    "    # while os.path.exists(\"news_audio/summary_in_{}_mins_{}.wav\".format(num_minutes, file_suffix)):\n",
    "    #     file_suffix +=1\n",
    "\n",
    "    save(audio, \"news_audio/ADAM.wav\")"
   ]
  },
  {
   "cell_type": "code",
   "execution_count": 46,
   "metadata": {},
   "outputs": [],
   "source": [
    "voice = \"Mimi (SWE)\"\n",
    "audio_voice = voice.split()[0]\n",
    "summary_lang = \"English\"\n",
    "if voice.split()[1] == \"(SWE)\":\n",
    "    summary_lang = \"Swedish\"\n",
    "if voice.split()[1] == \"(IT)\":\n",
    "    summary_lang = \"Italian\"\n",
    "\n",
    "pod_transcript = podify(\"Explain this to me like I'm a University student from Sweden\", stage_2_titles, final_summary, \"Sverige\", summary_lang)\n"
   ]
  },
  {
   "cell_type": "code",
   "execution_count": 47,
   "metadata": {},
   "outputs": [
    {
     "data": {
      "text/plain": [
       "'Du lyssnar på en AI-genererad podcast med temat Sverige, tillhandahållen av PerfectPod AI. Idag kommer vi att diskutera flera intressanta ämnen som påverkar Sverige och omvärlden. Vi börjar med att titta på hur Sveriges premiärminister Ulf Kristersson bekämpar den ökande gängvåldet i landet.\\n\\nI Sverige har vi sett en oroande ökning av gängrelaterat våld, och premiärminister Kristersson har tagit detta på stort allvar. Han träffar nu nationens armé- och polischef för att diskutera åtgärder mot detta problem. Ett förslag som övervägs är att ändra lagen för att utöka polisens befogenheter att be om militär hjälp. Detta är ett stort steg och kan ha en betydande inverkan på säkerheten i landet.\\n\\nSamtidigt har vi också intressanta nyheter om USA-Turkiet relationerna. Turkiets president Recep Tayyip Erdoğan har antytt att avgången av Senator Robert Menendez från sin position som ordförande för Senatens utrikesutskott kan leda till förändringar i relationen mellan USA och Turkiet. Detta är något som vi kommer att följa noga, eftersom det kan ha konsekvenser för både de två länderna och deras internationella samarbete.\\n\\nEn annan viktig händelse som vi inte får missa är tillkännagivandet av Nobelpriset i fysik och kemi. I år tilldelades Moungi Bawendi, Louis Brus och Alexei Ekimov Nobelpriset i kemi för deras arbete med kvantdots. Deras banbrytande forskning har öppnat dörrarna för en rad nya möjligheter inom materialvetenskap och elektronik. Dessutom blev Katalin Karikó och Drew Weissman tilldelade Nobelpriset i medicin för deras upptäckter som möjliggjorde utvecklingen av mRNA-vaccin mot COVID-19. Dessa priser är en stor ära för Sverige och visar på landets framstående forskning inom dessa områden.\\n\\nSlutligen, vi kommer att ta upp frågan om potentiella ägarförändringar för SAS Airlines och Köpenhamns flygplats. Det förväntas en budgivning äga rum mellan Apollo Management och en andra ospecificerad budgivare för SAS Airlines. Detta kan få betydande konsekvenser för flygbolagets framtid och för flygindustrin i Skandinavien. Samtidigt har Cellnex och Stonepeak ingått ett femårigt avtal, där Cellnex behåller en 51-procentig andel. Dessa förändringar i ägarstrukturen kan påverka både SAS Airlines och Köpenhamns flygplats.\\n\\nDet är allt vi har för idag i vår AI-genererade podcast om Sverige. Vi har täckt ämnen som bekämpning av gängvåld, USA-Turkiet relationer, Nobelpriset i fysik och kemi samt potentiella ägarförändringar för SAS Airlines och Köpenhamns flygplats. Vi hoppas att du har fått en bättre förståelse för dessa ämnen och deras betydelse för Sverige och världen. Tack för att du lyssnar på PerfectPod AI!'"
      ]
     },
     "execution_count": 47,
     "metadata": {},
     "output_type": "execute_result"
    }
   ],
   "source": [
    "pod_transcript"
   ]
  },
  {
   "cell_type": "code",
   "execution_count": 48,
   "metadata": {},
   "outputs": [
    {
     "ename": "RateLimitError",
     "evalue": "This request exceeds your quota. You have 102 characters remaining, while 2500 characters are required for this request.",
     "output_type": "error",
     "traceback": [
      "\u001b[0;31m---------------------------------------------------------------------------\u001b[0m",
      "\u001b[0;31mRateLimitError\u001b[0m                            Traceback (most recent call last)",
      "\u001b[1;32m/Users/adamlagevik/Desktop/texttales/TextTales-2.0/basic_news_pod.ipynb Cell 23\u001b[0m line \u001b[0;36m1\n\u001b[0;32m----> <a href='vscode-notebook-cell:/Users/adamlagevik/Desktop/texttales/TextTales-2.0/basic_news_pod.ipynb#X33sZmlsZQ%3D%3D?line=0'>1</a>\u001b[0m audio \u001b[39m=\u001b[39m audiofy(voice, pod_transcript[:\u001b[39m2500\u001b[39;49m])\n\u001b[1;32m      <a href='vscode-notebook-cell:/Users/adamlagevik/Desktop/texttales/TextTales-2.0/basic_news_pod.ipynb#X33sZmlsZQ%3D%3D?line=2'>3</a>\u001b[0m \u001b[39mdef\u001b[39;00m \u001b[39mtest\u001b[39m():\n\u001b[1;32m      <a href='vscode-notebook-cell:/Users/adamlagevik/Desktop/texttales/TextTales-2.0/basic_news_pod.ipynb#X33sZmlsZQ%3D%3D?line=3'>4</a>\u001b[0m     \u001b[39mreturn\u001b[39;00m audio\n",
      "\u001b[1;32m/Users/adamlagevik/Desktop/texttales/TextTales-2.0/basic_news_pod.ipynb Cell 23\u001b[0m line \u001b[0;36m9\n\u001b[1;32m      <a href='vscode-notebook-cell:/Users/adamlagevik/Desktop/texttales/TextTales-2.0/basic_news_pod.ipynb#X33sZmlsZQ%3D%3D?line=6'>7</a>\u001b[0m \u001b[39mdef\u001b[39;00m \u001b[39maudiofy\u001b[39m(voice, text):  \n\u001b[1;32m      <a href='vscode-notebook-cell:/Users/adamlagevik/Desktop/texttales/TextTales-2.0/basic_news_pod.ipynb#X33sZmlsZQ%3D%3D?line=7'>8</a>\u001b[0m     audio_voice \u001b[39m=\u001b[39m voice\u001b[39m.\u001b[39msplit()[\u001b[39m0\u001b[39m]\n\u001b[0;32m----> <a href='vscode-notebook-cell:/Users/adamlagevik/Desktop/texttales/TextTales-2.0/basic_news_pod.ipynb#X33sZmlsZQ%3D%3D?line=8'>9</a>\u001b[0m     audio \u001b[39m=\u001b[39m generate(text\u001b[39m=\u001b[39;49mtext, voice\u001b[39m=\u001b[39;49maudio_voice, model\u001b[39m=\u001b[39;49m\u001b[39m\"\u001b[39;49m\u001b[39meleven_monolingual_v1\u001b[39;49m\u001b[39m\"\u001b[39;49m, api_key\u001b[39m=\u001b[39;49meleven_api_key)\n\u001b[1;32m     <a href='vscode-notebook-cell:/Users/adamlagevik/Desktop/texttales/TextTales-2.0/basic_news_pod.ipynb#X33sZmlsZQ%3D%3D?line=9'>10</a>\u001b[0m     save(audio, \u001b[39m\"\u001b[39m\u001b[39mnews_audio/ADAM.wav\u001b[39m\u001b[39m\"\u001b[39m)\n\u001b[1;32m     <a href='vscode-notebook-cell:/Users/adamlagevik/Desktop/texttales/TextTales-2.0/basic_news_pod.ipynb#X33sZmlsZQ%3D%3D?line=10'>11</a>\u001b[0m     \u001b[39mreturn\u001b[39;00m audio\n",
      "File \u001b[0;32m/usr/local/lib/python3.10/site-packages/elevenlabs/simple.py:73\u001b[0m, in \u001b[0;36mgenerate\u001b[0;34m(text, api_key, voice, model, stream, latency, stream_chunk_size)\u001b[0m\n\u001b[1;32m     71\u001b[0m \u001b[39melse\u001b[39;00m:\n\u001b[1;32m     72\u001b[0m     \u001b[39massert\u001b[39;00m \u001b[39misinstance\u001b[39m(text, \u001b[39mstr\u001b[39m)\n\u001b[0;32m---> 73\u001b[0m     \u001b[39mreturn\u001b[39;00m TTS\u001b[39m.\u001b[39;49mgenerate(text, voice, model, api_key\u001b[39m=\u001b[39;49mapi_key)\n",
      "File \u001b[0;32m/usr/local/lib/python3.10/site-packages/elevenlabs/api/tts.py:45\u001b[0m, in \u001b[0;36mTTS.generate\u001b[0;34m(text, voice, model, api_key)\u001b[0m\n\u001b[1;32m     39\u001b[0m url \u001b[39m=\u001b[39m \u001b[39mf\u001b[39m\u001b[39m\"\u001b[39m\u001b[39m{\u001b[39;00mapi_base_url_v1\u001b[39m}\u001b[39;00m\u001b[39m/text-to-speech/\u001b[39m\u001b[39m{\u001b[39;00mvoice\u001b[39m.\u001b[39mvoice_id\u001b[39m}\u001b[39;00m\u001b[39m\"\u001b[39m\n\u001b[1;32m     40\u001b[0m data \u001b[39m=\u001b[39m \u001b[39mdict\u001b[39m(\n\u001b[1;32m     41\u001b[0m     text\u001b[39m=\u001b[39mtext,\n\u001b[1;32m     42\u001b[0m     model_id\u001b[39m=\u001b[39mmodel\u001b[39m.\u001b[39mmodel_id,\n\u001b[1;32m     43\u001b[0m     voice_settings\u001b[39m=\u001b[39mvoice\u001b[39m.\u001b[39msettings\u001b[39m.\u001b[39mmodel_dump() \u001b[39mif\u001b[39;00m voice\u001b[39m.\u001b[39msettings \u001b[39melse\u001b[39;00m \u001b[39mNone\u001b[39;00m,\n\u001b[1;32m     44\u001b[0m )  \u001b[39m# type: ignore\u001b[39;00m\n\u001b[0;32m---> 45\u001b[0m response \u001b[39m=\u001b[39m API\u001b[39m.\u001b[39;49mpost(url, json\u001b[39m=\u001b[39;49mdata, api_key\u001b[39m=\u001b[39;49mapi_key)\n\u001b[1;32m     46\u001b[0m \u001b[39mreturn\u001b[39;00m response\u001b[39m.\u001b[39mcontent\n",
      "File \u001b[0;32m/usr/local/lib/python3.10/site-packages/elevenlabs/api/base.py:75\u001b[0m, in \u001b[0;36mAPI.post\u001b[0;34m(url, *args, **kwargs)\u001b[0m\n\u001b[1;32m     73\u001b[0m \u001b[39m@staticmethod\u001b[39m\n\u001b[1;32m     74\u001b[0m \u001b[39mdef\u001b[39;00m \u001b[39mpost\u001b[39m(url: \u001b[39mstr\u001b[39m, \u001b[39m*\u001b[39margs, \u001b[39m*\u001b[39m\u001b[39m*\u001b[39mkwargs):\n\u001b[0;32m---> 75\u001b[0m     \u001b[39mreturn\u001b[39;00m API\u001b[39m.\u001b[39;49mrequest(url, method\u001b[39m=\u001b[39;49m\u001b[39m\"\u001b[39;49m\u001b[39mpost\u001b[39;49m\u001b[39m\"\u001b[39;49m, \u001b[39m*\u001b[39;49margs, \u001b[39m*\u001b[39;49m\u001b[39m*\u001b[39;49mkwargs)\n",
      "File \u001b[0;32m/usr/local/lib/python3.10/site-packages/elevenlabs/api/base.py:63\u001b[0m, in \u001b[0;36mAPI.request\u001b[0;34m(url, method, api_key, **kwargs)\u001b[0m\n\u001b[1;32m     61\u001b[0m         \u001b[39mraise\u001b[39;00m UnauthenticatedRateLimitError(message)\n\u001b[1;32m     62\u001b[0m     \u001b[39melse\u001b[39;00m:\n\u001b[0;32m---> 63\u001b[0m         \u001b[39mraise\u001b[39;00m RateLimitError(message)\n\u001b[1;32m     64\u001b[0m \u001b[39melif\u001b[39;00m status \u001b[39m==\u001b[39m \u001b[39m\"\u001b[39m\u001b[39mneeds_authorization\u001b[39m\u001b[39m\"\u001b[39m:\n\u001b[1;32m     65\u001b[0m     \u001b[39mraise\u001b[39;00m AuthorizationError(message)\n",
      "\u001b[0;31mRateLimitError\u001b[0m: This request exceeds your quota. You have 102 characters remaining, while 2500 characters are required for this request."
     ]
    }
   ],
   "source": [
    "audio = audiofy(voice, pod_transcript[:102])\n",
    "\n",
    "def test():\n",
    "    return audio"
   ]
  },
  {
   "cell_type": "code",
   "execution_count": 41,
   "metadata": {},
   "outputs": [
    {
     "name": "stdout",
     "output_type": "stream",
     "text": [
      "Running on local URL:  http://127.0.0.1:7860\n",
      "Running on public URL: https://e5a521bec9de9f9358.gradio.live\n",
      "\n",
      "This share link expires in 72 hours. For free permanent hosting and GPU upgrades, run `gradio deploy` from Terminal to deploy to Spaces (https://huggingface.co/spaces)\n"
     ]
    },
    {
     "data": {
      "text/html": [
       "<div><iframe src=\"https://e5a521bec9de9f9358.gradio.live\" width=\"100%\" height=\"500\" allow=\"autoplay; camera; microphone; clipboard-read; clipboard-write;\" frameborder=\"0\" allowfullscreen></iframe></div>"
      ],
      "text/plain": [
       "<IPython.core.display.HTML object>"
      ]
     },
     "metadata": {},
     "output_type": "display_data"
    },
    {
     "data": {
      "text/plain": []
     },
     "execution_count": 41,
     "metadata": {},
     "output_type": "execute_result"
    }
   ],
   "source": [
    "demo = gr.Interface(fn=test, \n",
    "                    inputs=[ ],\n",
    "                    outputs= [\"audio\"]\n",
    "                    )\n",
    "demo.launch(share=True)"
   ]
  }
 ],
 "metadata": {
  "kernelspec": {
   "display_name": "Python 3",
   "language": "python",
   "name": "python3"
  },
  "language_info": {
   "codemirror_mode": {
    "name": "ipython",
    "version": 3
   },
   "file_extension": ".py",
   "mimetype": "text/x-python",
   "name": "python",
   "nbconvert_exporter": "python",
   "pygments_lexer": "ipython3",
   "version": "3.10.12"
  },
  "orig_nbformat": 4
 },
 "nbformat": 4,
 "nbformat_minor": 2
}
