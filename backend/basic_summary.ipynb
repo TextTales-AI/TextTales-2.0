{
 "cells": [
  {
   "cell_type": "code",
   "execution_count": 1,
   "metadata": {},
   "outputs": [
    {
     "name": "stdout",
     "output_type": "stream",
     "text": [
      "Requirement already satisfied: openai in c:\\users\\ellio\\appdata\\local\\programs\\python\\python311\\lib\\site-packages (0.27.2)\n",
      "Requirement already satisfied: tiktoken in c:\\users\\ellio\\appdata\\local\\programs\\python\\python311\\lib\\site-packages (0.4.0)\n",
      "Requirement already satisfied: langchain in c:\\users\\ellio\\appdata\\local\\programs\\python\\python311\\lib\\site-packages (0.0.281)\n",
      "Requirement already satisfied: gradio in c:\\users\\ellio\\appdata\\local\\programs\\python\\python311\\lib\\site-packages (3.43.2)\n",
      "Requirement already satisfied: requests>=2.20 in c:\\users\\ellio\\appdata\\local\\programs\\python\\python311\\lib\\site-packages (from openai) (2.28.1)\n",
      "Requirement already satisfied: tqdm in c:\\users\\ellio\\appdata\\local\\programs\\python\\python311\\lib\\site-packages (from openai) (4.64.1)\n",
      "Requirement already satisfied: aiohttp in c:\\users\\ellio\\appdata\\local\\programs\\python\\python311\\lib\\site-packages (from openai) (3.8.4)\n",
      "Requirement already satisfied: regex>=2022.1.18 in c:\\users\\ellio\\appdata\\local\\programs\\python\\python311\\lib\\site-packages (from tiktoken) (2023.6.3)\n",
      "Requirement already satisfied: PyYAML>=5.3 in c:\\users\\ellio\\appdata\\local\\programs\\python\\python311\\lib\\site-packages (from langchain) (6.0.1)\n",
      "Requirement already satisfied: SQLAlchemy<3,>=1.4 in c:\\users\\ellio\\appdata\\local\\programs\\python\\python311\\lib\\site-packages (from langchain) (2.0.20)\n",
      "Requirement already satisfied: dataclasses-json<0.6.0,>=0.5.7 in c:\\users\\ellio\\appdata\\local\\programs\\python\\python311\\lib\\site-packages (from langchain) (0.5.14)\n",
      "Requirement already satisfied: langsmith<0.1.0,>=0.0.21 in c:\\users\\ellio\\appdata\\local\\programs\\python\\python311\\lib\\site-packages (from langchain) (0.0.33)\n",
      "Requirement already satisfied: numexpr<3.0.0,>=2.8.4 in c:\\users\\ellio\\appdata\\local\\programs\\python\\python311\\lib\\site-packages (from langchain) (2.8.5)\n",
      "Requirement already satisfied: numpy<2,>=1 in c:\\users\\ellio\\appdata\\local\\programs\\python\\python311\\lib\\site-packages (from langchain) (1.23.4)\n",
      "Requirement already satisfied: pydantic<3,>=1 in c:\\users\\ellio\\appdata\\local\\programs\\python\\python311\\lib\\site-packages (from langchain) (1.10.11)\n",
      "Requirement already satisfied: tenacity<9.0.0,>=8.1.0 in c:\\users\\ellio\\appdata\\local\\programs\\python\\python311\\lib\\site-packages (from langchain) (8.2.3)\n",
      "Requirement already satisfied: aiofiles<24.0,>=22.0 in c:\\users\\ellio\\appdata\\local\\programs\\python\\python311\\lib\\site-packages (from gradio) (23.2.1)\n",
      "Requirement already satisfied: altair<6.0,>=4.2.0 in c:\\users\\ellio\\appdata\\local\\programs\\python\\python311\\lib\\site-packages (from gradio) (5.1.1)\n",
      "Requirement already satisfied: fastapi in c:\\users\\ellio\\appdata\\local\\programs\\python\\python311\\lib\\site-packages (from gradio) (0.103.1)\n",
      "Requirement already satisfied: ffmpy in c:\\users\\ellio\\appdata\\local\\programs\\python\\python311\\lib\\site-packages (from gradio) (0.3.1)\n",
      "Requirement already satisfied: gradio-client==0.5.0 in c:\\users\\ellio\\appdata\\local\\programs\\python\\python311\\lib\\site-packages (from gradio) (0.5.0)\n",
      "Requirement already satisfied: httpx in c:\\users\\ellio\\appdata\\local\\programs\\python\\python311\\lib\\site-packages (from gradio) (0.25.0)\n",
      "Requirement already satisfied: huggingface-hub>=0.14.0 in c:\\users\\ellio\\appdata\\local\\programs\\python\\python311\\lib\\site-packages (from gradio) (0.16.4)\n",
      "Requirement already satisfied: importlib-resources<7.0,>=1.3 in c:\\users\\ellio\\appdata\\local\\programs\\python\\python311\\lib\\site-packages (from gradio) (6.0.1)\n",
      "Requirement already satisfied: jinja2<4.0 in c:\\users\\ellio\\appdata\\local\\programs\\python\\python311\\lib\\site-packages (from gradio) (3.1.2)\n",
      "Requirement already satisfied: markupsafe~=2.0 in c:\\users\\ellio\\appdata\\local\\programs\\python\\python311\\lib\\site-packages (from gradio) (2.1.1)\n",
      "Requirement already satisfied: matplotlib~=3.0 in c:\\users\\ellio\\appdata\\local\\programs\\python\\python311\\lib\\site-packages (from gradio) (3.6.2)\n",
      "Requirement already satisfied: orjson~=3.0 in c:\\users\\ellio\\appdata\\local\\programs\\python\\python311\\lib\\site-packages (from gradio) (3.9.7)\n",
      "Requirement already satisfied: packaging in c:\\users\\ellio\\appdata\\local\\programs\\python\\python311\\lib\\site-packages (from gradio) (21.3)\n",
      "Requirement already satisfied: pandas<3.0,>=1.0 in c:\\users\\ellio\\appdata\\local\\programs\\python\\python311\\lib\\site-packages (from gradio) (1.5.1)\n",
      "Requirement already satisfied: pillow<11.0,>=8.0 in c:\\users\\ellio\\appdata\\local\\programs\\python\\python311\\lib\\site-packages (from gradio) (9.3.0)\n",
      "Requirement already satisfied: pydub in c:\\users\\ellio\\appdata\\local\\programs\\python\\python311\\lib\\site-packages (from gradio) (0.25.1)\n",
      "Requirement already satisfied: python-multipart in c:\\users\\ellio\\appdata\\local\\programs\\python\\python311\\lib\\site-packages (from gradio) (0.0.6)\n",
      "Requirement already satisfied: semantic-version~=2.0 in c:\\users\\ellio\\appdata\\local\\programs\\python\\python311\\lib\\site-packages (from gradio) (2.10.0)\n",
      "Requirement already satisfied: typing-extensions~=4.0 in c:\\users\\ellio\\appdata\\local\\programs\\python\\python311\\lib\\site-packages (from gradio) (4.7.1)\n",
      "Requirement already satisfied: uvicorn>=0.14.0 in c:\\users\\ellio\\appdata\\local\\programs\\python\\python311\\lib\\site-packages (from gradio) (0.23.2)\n",
      "Requirement already satisfied: websockets<12.0,>=10.0 in c:\\users\\ellio\\appdata\\local\\programs\\python\\python311\\lib\\site-packages (from gradio) (11.0.3)\n",
      "Requirement already satisfied: fsspec in c:\\users\\ellio\\appdata\\local\\programs\\python\\python311\\lib\\site-packages (from gradio-client==0.5.0->gradio) (2023.9.0)\n",
      "Requirement already satisfied: attrs>=17.3.0 in c:\\users\\ellio\\appdata\\local\\programs\\python\\python311\\lib\\site-packages (from aiohttp->openai) (22.1.0)\n",
      "Requirement already satisfied: charset-normalizer<4.0,>=2.0 in c:\\users\\ellio\\appdata\\local\\programs\\python\\python311\\lib\\site-packages (from aiohttp->openai) (2.1.1)\n",
      "Requirement already satisfied: multidict<7.0,>=4.5 in c:\\users\\ellio\\appdata\\local\\programs\\python\\python311\\lib\\site-packages (from aiohttp->openai) (6.0.4)\n",
      "Requirement already satisfied: async-timeout<5.0,>=4.0.0a3 in c:\\users\\ellio\\appdata\\local\\programs\\python\\python311\\lib\\site-packages (from aiohttp->openai) (4.0.2)\n",
      "Requirement already satisfied: yarl<2.0,>=1.0 in c:\\users\\ellio\\appdata\\local\\programs\\python\\python311\\lib\\site-packages (from aiohttp->openai) (1.8.2)\n",
      "Requirement already satisfied: frozenlist>=1.1.1 in c:\\users\\ellio\\appdata\\local\\programs\\python\\python311\\lib\\site-packages (from aiohttp->openai) (1.3.3)\n",
      "Requirement already satisfied: aiosignal>=1.1.2 in c:\\users\\ellio\\appdata\\local\\programs\\python\\python311\\lib\\site-packages (from aiohttp->openai) (1.3.1)\n",
      "Requirement already satisfied: jsonschema>=3.0 in c:\\users\\ellio\\appdata\\local\\programs\\python\\python311\\lib\\site-packages (from altair<6.0,>=4.2.0->gradio) (4.17.0)\n",
      "Requirement already satisfied: toolz in c:\\users\\ellio\\appdata\\local\\programs\\python\\python311\\lib\\site-packages (from altair<6.0,>=4.2.0->gradio) (0.12.0)\n",
      "Requirement already satisfied: marshmallow<4.0.0,>=3.18.0 in c:\\users\\ellio\\appdata\\local\\programs\\python\\python311\\lib\\site-packages (from dataclasses-json<0.6.0,>=0.5.7->langchain) (3.20.1)\n",
      "Requirement already satisfied: typing-inspect<1,>=0.4.0 in c:\\users\\ellio\\appdata\\local\\programs\\python\\python311\\lib\\site-packages (from dataclasses-json<0.6.0,>=0.5.7->langchain) (0.9.0)\n",
      "Requirement already satisfied: filelock in c:\\users\\ellio\\appdata\\local\\programs\\python\\python311\\lib\\site-packages (from huggingface-hub>=0.14.0->gradio) (3.12.2)\n",
      "Requirement already satisfied: contourpy>=1.0.1 in c:\\users\\ellio\\appdata\\local\\programs\\python\\python311\\lib\\site-packages (from matplotlib~=3.0->gradio) (1.0.6)\n",
      "Requirement already satisfied: cycler>=0.10 in c:\\users\\ellio\\appdata\\local\\programs\\python\\python311\\lib\\site-packages (from matplotlib~=3.0->gradio) (0.11.0)\n",
      "Requirement already satisfied: fonttools>=4.22.0 in c:\\users\\ellio\\appdata\\local\\programs\\python\\python311\\lib\\site-packages (from matplotlib~=3.0->gradio) (4.38.0)\n",
      "Requirement already satisfied: kiwisolver>=1.0.1 in c:\\users\\ellio\\appdata\\local\\programs\\python\\python311\\lib\\site-packages (from matplotlib~=3.0->gradio) (1.4.4)\n",
      "Requirement already satisfied: pyparsing>=2.2.1 in c:\\users\\ellio\\appdata\\local\\programs\\python\\python311\\lib\\site-packages (from matplotlib~=3.0->gradio) (3.0.9)\n",
      "Requirement already satisfied: python-dateutil>=2.7 in c:\\users\\ellio\\appdata\\local\\programs\\python\\python311\\lib\\site-packages (from matplotlib~=3.0->gradio) (2.8.2)\n",
      "Requirement already satisfied: pytz>=2020.1 in c:\\users\\ellio\\appdata\\local\\programs\\python\\python311\\lib\\site-packages (from pandas<3.0,>=1.0->gradio) (2022.6)\n",
      "Requirement already satisfied: idna<4,>=2.5 in c:\\users\\ellio\\appdata\\local\\programs\\python\\python311\\lib\\site-packages (from requests>=2.20->openai) (3.4)\n",
      "Requirement already satisfied: urllib3<1.27,>=1.21.1 in c:\\users\\ellio\\appdata\\local\\programs\\python\\python311\\lib\\site-packages (from requests>=2.20->openai) (1.26.13)\n",
      "Requirement already satisfied: certifi>=2017.4.17 in c:\\users\\ellio\\appdata\\local\\programs\\python\\python311\\lib\\site-packages (from requests>=2.20->openai) (2022.12.7)\n",
      "Requirement already satisfied: greenlet!=0.4.17 in c:\\users\\ellio\\appdata\\local\\programs\\python\\python311\\lib\\site-packages (from SQLAlchemy<3,>=1.4->langchain) (2.0.2)\n",
      "Requirement already satisfied: colorama in c:\\users\\ellio\\appdata\\local\\programs\\python\\python311\\lib\\site-packages (from tqdm->openai) (0.4.6)\n",
      "Requirement already satisfied: click>=7.0 in c:\\users\\ellio\\appdata\\local\\programs\\python\\python311\\lib\\site-packages (from uvicorn>=0.14.0->gradio) (8.1.3)\n",
      "Requirement already satisfied: h11>=0.8 in c:\\users\\ellio\\appdata\\local\\programs\\python\\python311\\lib\\site-packages (from uvicorn>=0.14.0->gradio) (0.14.0)\n",
      "Requirement already satisfied: anyio<4.0.0,>=3.7.1 in c:\\users\\ellio\\appdata\\local\\programs\\python\\python311\\lib\\site-packages (from fastapi->gradio) (3.7.1)\n",
      "Requirement already satisfied: starlette<0.28.0,>=0.27.0 in c:\\users\\ellio\\appdata\\local\\programs\\python\\python311\\lib\\site-packages (from fastapi->gradio) (0.27.0)\n",
      "Requirement already satisfied: httpcore<0.19.0,>=0.18.0 in c:\\users\\ellio\\appdata\\local\\programs\\python\\python311\\lib\\site-packages (from httpx->gradio) (0.18.0)\n",
      "Requirement already satisfied: sniffio in c:\\users\\ellio\\appdata\\local\\programs\\python\\python311\\lib\\site-packages (from httpx->gradio) (1.3.0)\n",
      "Requirement already satisfied: pyrsistent!=0.17.0,!=0.17.1,!=0.17.2,>=0.14.0 in c:\\users\\ellio\\appdata\\local\\programs\\python\\python311\\lib\\site-packages (from jsonschema>=3.0->altair<6.0,>=4.2.0->gradio) (0.19.2)\n",
      "Requirement already satisfied: six>=1.5 in c:\\users\\ellio\\appdata\\local\\programs\\python\\python311\\lib\\site-packages (from python-dateutil>=2.7->matplotlib~=3.0->gradio) (1.16.0)\n",
      "Requirement already satisfied: mypy-extensions>=0.3.0 in c:\\users\\ellio\\appdata\\local\\programs\\python\\python311\\lib\\site-packages (from typing-inspect<1,>=0.4.0->dataclasses-json<0.6.0,>=0.5.7->langchain) (1.0.0)\n"
     ]
    },
    {
     "name": "stderr",
     "output_type": "stream",
     "text": [
      "\n",
      "[notice] A new release of pip is available: 23.1.1 -> 23.2.1\n",
      "[notice] To update, run: python.exe -m pip install --upgrade pip\n"
     ]
    }
   ],
   "source": [
    "! pip install openai tiktoken langchain gradio"
   ]
  },
  {
   "cell_type": "code",
   "execution_count": 2,
   "metadata": {},
   "outputs": [],
   "source": [
    "import os\n",
    "import gradio as gr\n",
    "from langchain.chat_models import ChatOpenAI\n",
    "from langchain.document_loaders import PyPDFLoader\n",
    "from elevenlabs import voices, generate, play, save\n",
    "\n",
    "eleven_api_key = \"34dbe78c2a8c6642fcdc27dbb44c1929\""
   ]
  },
  {
   "cell_type": "code",
   "execution_count": 3,
   "metadata": {},
   "outputs": [],
   "source": [
    "def summarize_and_sonify(file, num_minutes, voice):\n",
    "\n",
    "    # Read doc\n",
    "    doc = PyPDFLoader(file.name).load()\n",
    "\n",
    "    # Create string from doc content\n",
    "    text = ''\n",
    "    for page in doc:\n",
    "        text += page.page_content\n",
    "\n",
    "    num_words = num_minutes*135 # Approximately 135 words per minute with TTS voice (refine this)\n",
    "\n",
    "    audio_voice = voice.split()[0]\n",
    "    summary_lang = \"English\"\n",
    "    if voice.split()[1] == \"(SWE)\":\n",
    "        summary_lang = \"Swedish\"\n",
    "    if voice.split()[1] == \"(IT)\":\n",
    "        summary_lang = \"Italian\"\n",
    "\n",
    "    # Connect to OpenAI, prompt ChatGPT to summarize the text\n",
    "    chat_model = ChatOpenAI() # Must have set API key as env var\n",
    "    prompt = \"Summarize the following text in {} words. The summary must be in {}. Text: {}\".format(num_words, summary_lang, text) \n",
    "    summary = chat_model.predict(prompt)\n",
    "\n",
    "    # Connect to elevenlabs, generate audio\n",
    "    audio = generate(text=summary, voice=audio_voice, model=\"eleven_monolingual_v1\", api_key=eleven_api_key)\n",
    "\n",
    "    # Save audiofile\n",
    "    if not os.path.exists(\"audiofiles\"):\n",
    "        os.makedirs(\"audiofiles\")\n",
    "\n",
    "    # Handling identical file names\n",
    "    file_suffix = 0\n",
    "    while os.path.exists(\"audiofiles/summary_in_{}_mins_{}.wav\".format(num_minutes, file_suffix)):\n",
    "        file_suffix +=1\n",
    "\n",
    "    save(audio, \"audiofiles/summary_in_{}_mins_{}.wav\".format(num_minutes, file_suffix))\n",
    "\n",
    "    return \"audiofiles/summary_in_{}_mins_{}.wav\".format(num_minutes, file_suffix)\n",
    "\n",
    "\n"
   ]
  },
  {
   "cell_type": "code",
   "execution_count": 6,
   "metadata": {},
   "outputs": [
    {
     "name": "stdout",
     "output_type": "stream",
     "text": [
      "Running on local URL:  http://127.0.0.1:7861\n",
      "Running on public URL: https://f988e1ca2014ce7bf2.gradio.live\n",
      "\n",
      "This share link expires in 72 hours. For free permanent hosting and GPU upgrades, run `gradio deploy` from Terminal to deploy to Spaces (https://huggingface.co/spaces)\n"
     ]
    },
    {
     "data": {
      "text/html": [
       "<div><iframe src=\"https://f988e1ca2014ce7bf2.gradio.live\" width=\"100%\" height=\"500\" allow=\"autoplay; camera; microphone; clipboard-read; clipboard-write;\" frameborder=\"0\" allowfullscreen></iframe></div>"
      ],
      "text/plain": [
       "<IPython.core.display.HTML object>"
      ]
     },
     "metadata": {},
     "output_type": "display_data"
    },
    {
     "data": {
      "text/plain": []
     },
     "execution_count": 6,
     "metadata": {},
     "output_type": "execute_result"
    }
   ],
   "source": [
    "demo = gr.Interface(fn=summarize_and_sonify, \n",
    "                    inputs=[\n",
    "                            \"file\", \n",
    "                            gr.Slider(minimum=0.5, maximum=5, step=0.5, label=\"Length\", info = \"Number of minutes of audio summary\"),\n",
    "                            gr.Dropdown([\"Adam (US)\", \"Antoni (IT)\", \"Arnold (US)\", \"Bella (US)\", \"Domi (US)\", \"Elli (US)\", \"Josh (SWE)\", \"Rachel (US)\", \"Sam (US)\"], label=\"Voice\", info=\"Narrator voice and language of audio summary\"),\n",
    "                            ],\n",
    "                    outputs= [\"audio\"]\n",
    "                    )\n",
    "demo.launch(share=True)"
   ]
  },
  {
   "cell_type": "code",
   "execution_count": 5,
   "metadata": {},
   "outputs": [],
   "source": [
    "# voices = voices()\n",
    "# for i in range(30):\n",
    "#     print(voices[i].name)"
   ]
  }
 ],
 "metadata": {
  "kernelspec": {
   "display_name": "Python 3",
   "language": "python",
   "name": "python3"
  },
  "language_info": {
   "codemirror_mode": {
    "name": "ipython",
    "version": 3
   },
   "file_extension": ".py",
   "mimetype": "text/x-python",
   "name": "python",
   "nbconvert_exporter": "python",
   "pygments_lexer": "ipython3",
   "version": "3.11.0"
  },
  "orig_nbformat": 4
 },
 "nbformat": 4,
 "nbformat_minor": 2
}
