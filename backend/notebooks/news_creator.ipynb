{
 "cells": [
  {
   "cell_type": "markdown",
   "metadata": {},
   "source": [
    "## Creation of news podcast\n",
    "### Overview of events\n",
    "\n",
    "#### Data gathering & Analysis\n",
    "- Scrape up to 30 news articles through google news\n",
    "- Embedd each article with openai's embedding\n",
    "- Cluster each article into 3 clusters using Kmeans method\n",
    "- Generate a title for each cluster\n",
    "\n",
    "#### Transcript creation\n",
    "- Generate an introduction and outro using geo and weather data plus cluster titles\n",
    "- Generate a podcast segment based on text from each cluster (cut of input at 7000 tokens for best response)\n",
    "- Combine Intro, 3 segments, and outro into one podcast transcript\n",
    "\n",
    "#### Audiofy text\n",
    "- TODO\n"
   ]
  },
  {
   "cell_type": "markdown",
   "metadata": {},
   "source": [
    "#### Requirements"
   ]
  },
  {
   "cell_type": "code",
   "execution_count": 302,
   "metadata": {},
   "outputs": [],
   "source": [
    "import os\n",
    "import gnews\n",
    "import openai\n",
    "from langchain.chat_models import ChatOpenAI\n",
    "from dotenv import load_dotenv\n",
    "from datetime import datetime\n",
    "import requests\n",
    "import datetime\n",
    "import pandas as pd\n",
    "import tiktoken\n",
    "from openai.embeddings_utils import get_embedding\n",
    "import numpy as np\n",
    "from sklearn.cluster import KMeans\n",
    "from sklearn.manifold import TSNE\n",
    "import matplotlib.pyplot as plt\n",
    "import matplotlib\n",
    "from ast import literal_eval\n",
    "import requests\n",
    "load_dotenv()\n",
    "\n",
    "openai.api_key = os.getenv(\"OPENAI_API_KEY\")\n",
    "weather_api_key = os.getenv(\"WEATHER_API_KEY\")"
   ]
  },
  {
   "cell_type": "markdown",
   "metadata": {},
   "source": [
    "#### Scrape news from Gnews"
   ]
  },
  {
   "cell_type": "code",
   "execution_count": 303,
   "metadata": {},
   "outputs": [
    {
     "name": "stderr",
     "output_type": "stream",
     "text": [
      "10/21/2023 04:12:17 PM - Article `download()` failed with ('Connection aborted.', RemoteDisconnected('Remote end closed connection without response')) on URL https://consent.google.com/m?continue=https://news.google.com/rss/articles/CBMiX2h0dHBzOi8vZ2FtZXJhbnQuY29tL3hib3gtYWN0aXZpc2lvbi1ibGl6emFyZC1hY3F1aXNpdGlvbi1ldmVyeS1nYW1lLWZyYW5jaGlzZS1vd25lZC1taWNyb3NvZnQv0gEA?oc%3D5&gl=SE&m=0&pc=n&cm=2&hl=en-US&src=1\n",
      "10/21/2023 04:12:18 PM - Article `download()` failed with 403 Client Error: Max restarts limit reached for url: https://www.forbes.com/sites/antoniopequenoiv/2023/10/17/xbox-game-pass-wont-feature-call-of-duty-warcraft-and-other-activision-blizzard-games-until-2024/ on URL https://consent.google.com/m?continue=https://news.google.com/rss/articles/CBMimgFodHRwczovL3d3dy5mb3JiZXMuY29tL3NpdGVzL2FudG9uaW9wZXF1ZW5vaXYvMjAyMy8xMC8xNy94Ym94LWdhbWUtcGFzcy13b250LWZlYXR1cmUtY2FsbC1vZi1kdXR5LXdhcmNyYWZ0LWFuZC1vdGhlci1hY3RpdmlzaW9uLWJsaXp6YXJkLWdhbWVzLXVudGlsLTIwMjQv0gGeAWh0dHBzOi8vd3d3LmZvcmJlcy5jb20vc2l0ZXMvYW50b25pb3BlcXVlbm9pdi8yMDIzLzEwLzE3L3hib3gtZ2FtZS1wYXNzLXdvbnQtZmVhdHVyZS1jYWxsLW9mLWR1dHktd2FyY3JhZnQtYW5kLW90aGVyLWFjdGl2aXNpb24tYmxpenphcmQtZ2FtZXMtdW50aWwtMjAyNC9hbXAv?oc%3D5&gl=SE&m=0&pc=n&cm=2&hl=en-US&src=1\n",
      "10/21/2023 04:12:22 PM - Article `download()` failed with 403 Client Error: Forbidden for url: https://www.investors.com/research/lulu-stock-replaces-microsofts-new-acquisition-in-s-how-does-it-compare/ on URL https://consent.google.com/m?continue=https://news.google.com/rss/articles/CBMia2h0dHBzOi8vd3d3LmludmVzdG9ycy5jb20vcmVzZWFyY2gvbHVsdS1zdG9jay1yZXBsYWNlcy1taWNyb3NvZnRzLW5ldy1hY3F1aXNpdGlvbi1pbi1zLWhvdy1kb2VzLWl0LWNvbXBhcmUv0gEA?oc%3D5&gl=SE&m=0&pc=n&cm=2&hl=en-US&src=1\n",
      "10/21/2023 04:12:22 PM - Article `download()` failed with ('Connection aborted.', RemoteDisconnected('Remote end closed connection without response')) on URL https://consent.google.com/m?continue=https://news.google.com/rss/articles/CBMicmh0dHBzOi8vd3d3LnRoZWdhbWVyLmNvbS9ob3BlZnVsbHktd2UtbmV2ZXItc2VlLWJvYmJ5LWtvdGljay1hZ2Fpbi1hY3RpdmlzaW9uLWJsaXp6YXJkLWtpbmctbWljcm9zb2Z0LWFjcXVpc2l0aW9uL9IBAA?oc%3D5&gl=SE&m=0&pc=n&cm=2&hl=en-US&src=1\n",
      "10/21/2023 04:12:32 PM - Article `download()` failed with ('Connection aborted.', RemoteDisconnected('Remote end closed connection without response')) on URL https://consent.google.com/m?continue=https://news.google.com/rss/articles/CBMiQmh0dHBzOi8vZ2FtZXJhbnQuY29tL21pY3Jvc29mdC1wb3dlci15b3VyLWRyZWFtcy1sYXMtdmVnYXMtc3BoZXJlL9IBAA?oc%3D5&gl=SE&m=0&pc=n&cm=2&hl=en-US&src=1\n",
      "10/21/2023 04:12:33 PM - Article `download()` failed with 403 Client Error: Max restarts limit reached for url: https://www.forbes.com/sites/paultassi/2023/10/17/reminder-diablo-4-is-on-both-steam-and-steam-deck-as-of-today/ on URL https://consent.google.com/m?continue=https://news.google.com/rss/articles/CBMicGh0dHBzOi8vd3d3LmZvcmJlcy5jb20vc2l0ZXMvcGF1bHRhc3NpLzIwMjMvMTAvMTcvcmVtaW5kZXItZGlhYmxvLTQtaXMtb24tYm90aC1zdGVhbS1hbmQtc3RlYW0tZGVjay1hcy1vZi10b2RheS_SAXRodHRwczovL3d3dy5mb3JiZXMuY29tL3NpdGVzL3BhdWx0YXNzaS8yMDIzLzEwLzE3L3JlbWluZGVyLWRpYWJsby00LWlzLW9uLWJvdGgtc3RlYW0tYW5kLXN0ZWFtLWRlY2stYXMtb2YtdG9kYXkvYW1wLw?oc%3D5&gl=SE&m=0&pc=n&cm=2&hl=en-US&src=1\n",
      "/Users/adamlagevik/Library/Python/3.10/lib/python/site-packages/dateutil/parser/_parser.py:1207: UnknownTimezoneWarning: tzname EDT identified but not understood.  Pass `tzinfos` argument in order to correctly return a timezone-aware datetime.  In a future version, this will raise an exception.\n",
      "  warnings.warn(\"tzname {tzname} identified but not understood.  \"\n"
     ]
    }
   ],
   "source": [
    "env = \"prod\" # possible values \"test\" | \"prod\". \"prod\" makes google requiest. \"test\" fetches from saved local copy to skip fetching in testing purposes\n",
    "topic = \"Mircosoft aquires Blizzard\" # What the user asked for\n",
    "article_titles = list()\n",
    "article_body = list()\n",
    "df = pd.DataFrame(columns=['article_title','article_body','embeddings'])\n",
    "\n",
    "if(env == \"prod\"):\n",
    "    # google_news = gnews.GNews(period='7d', max_results=10)\n",
    "    google_news = gnews.GNews(language='en', country='Sweden', period='7d', max_results=30)\n",
    "    news_response = google_news.get_news(topic) # En lista av artikelobjekt, article.text, article.title\n",
    "    for news in news_response:\n",
    "        # print(\"before\")\n",
    "        full_article = google_news.get_full_article(news['url'])\n",
    "        # print(\"after\")\n",
    "        if(full_article and (full_article.title and full_article.text)):\n",
    "            article_titles.append(full_article.title)\n",
    "            article_body.append(full_article.text)\n",
    "    with open('./tmp/articles.txt', 'w') as f:   \n",
    "        for i in range(len(article_titles)):\n",
    "            if(i != 0):\n",
    "                f.write(f\"********\\n\")\n",
    "            f.write(f\"{article_titles[i]}\\n\")\n",
    "            f.write(f\"********\\n\")\n",
    "            f.write(f\"{article_body[i]}\\n\")\n",
    "elif(env == \"test\"):\n",
    "    with open('./tmp/articles.txt') as f:\n",
    "        lines = f.readlines()\n",
    "        lines = ''.join([line.strip() for line in lines])\n",
    "        lines = lines.split(\"********\")\n",
    "        for i in range(len(lines)):\n",
    "            line = lines[i]\n",
    "            if(i % 2 == 0):\n",
    "                article_titles.append(line)\n",
    "            else:\n",
    "                article_body.append(line)\n",
    "\n",
    "df[\"article_title\"] = article_titles\n",
    "df[\"article_body\"] = article_body\n",
    "df[\"combined\"] = (\n",
    "    \"Title: \" + df.article_title.str.strip() + \"; Content: \" + df.article_body.str.strip()\n",
    ")"
   ]
  },
  {
   "cell_type": "markdown",
   "metadata": {},
   "source": [
    "#### Embedd the articles"
   ]
  },
  {
   "cell_type": "code",
   "execution_count": 304,
   "metadata": {},
   "outputs": [],
   "source": [
    "# embedding model parameters\n",
    "embedding_model = \"text-embedding-ada-002\"\n",
    "embedding_encoding = \"cl100k_base\"  # this the encoding for text-embedding-ada-002\n",
    "max_tokens = 8000  # the maximum for text-embedding-ada-002 is 8191\n",
    "\n",
    "encoding = tiktoken.get_encoding(embedding_encoding)\n",
    "df[\"embeddings\"] = df.combined.apply(lambda x: get_embedding(x, engine=embedding_model))\n",
    "\n",
    "# Save to csv for test purposes\n",
    "df.to_csv(\"tmp/embeddings.csv\")\n",
    "\n"
   ]
  },
  {
   "cell_type": "markdown",
   "metadata": {},
   "source": [
    "#### Cluster based on embeddings using Kmeans and visualising in 2D of clusters"
   ]
  },
  {
   "cell_type": "code",
   "execution_count": 305,
   "metadata": {},
   "outputs": [
    {
     "name": "stderr",
     "output_type": "stream",
     "text": [
      "/var/folders/22/9tjx5s0x55dcrwblt27w_4ph0000gn/T/ipykernel_12973/724091648.py:27: RuntimeWarning: Mean of empty slice.\n",
      "  avg_x = xs.mean()\n",
      "/usr/local/lib/python3.10/site-packages/numpy/core/_methods.py:129: RuntimeWarning: invalid value encountered in divide\n",
      "  ret = ret.dtype.type(ret / rcount)\n",
      "/var/folders/22/9tjx5s0x55dcrwblt27w_4ph0000gn/T/ipykernel_12973/724091648.py:28: RuntimeWarning: Mean of empty slice.\n",
      "  avg_y = ys.mean()\n"
     ]
    },
    {
     "data": {
      "text/plain": [
       "Text(0.5, 1.0, 'Clusters identified visualized in language 2d using t-SNE')"
      ]
     },
     "execution_count": 305,
     "metadata": {},
     "output_type": "execute_result"
    },
    {
     "data": {
      "image/png": "[encoded data removed]",
      "text/plain": [
       "<Figure size 640x480 with 1 Axes>"
      ]
     },
     "metadata": {},
     "output_type": "display_data"
    }
   ],
   "source": [
    "datafile_path = \"tmp/embeddings.csv\"\n",
    "df = pd.read_csv(datafile_path)\n",
    "df[\"embeddings\"] = df.embeddings.apply(literal_eval).apply(np.array)  # convert string to numpy array\n",
    "matrix = np.vstack(df.embeddings.values)\n",
    "matrix.shape\n",
    "\n",
    "n_clusters = 3\n",
    "\n",
    "kmeans = KMeans(n_clusters=n_clusters, init=\"k-means++\", random_state=42, n_init=10)\n",
    "kmeans.fit(matrix)\n",
    "labels = kmeans.labels_\n",
    "df[\"Cluster\"] = labels\n",
    "\n",
    "df.groupby(\"Cluster\")#.Score.mean().sort_values()\n",
    "\n",
    "tsne = TSNE(n_components=2, perplexity=15, random_state=42, init=\"random\", learning_rate=200)\n",
    "vis_dims2 = tsne.fit_transform(matrix)\n",
    "\n",
    "x = [x for x, y in vis_dims2]\n",
    "y = [y for x, y in vis_dims2]\n",
    "\n",
    "for category, color in enumerate([\"purple\", \"green\", \"red\", \"blue\"]):\n",
    "    xs = np.array(x)[df.Cluster == category]\n",
    "    ys = np.array(y)[df.Cluster == category]\n",
    "    plt.scatter(xs, ys, color=color, alpha=0.3)\n",
    "\n",
    "    avg_x = xs.mean()\n",
    "    avg_y = ys.mean()\n",
    "\n",
    "    plt.scatter(avg_x, avg_y, marker=\"x\", color=color, s=100)\n",
    "plt.title(\"Clusters identified visualized in language 2d using t-SNE\")"
   ]
  },
  {
   "cell_type": "markdown",
   "metadata": {},
   "source": [
    "#### Generate titles of clusters"
   ]
  },
  {
   "cell_type": "code",
   "execution_count": 306,
   "metadata": {},
   "outputs": [],
   "source": [
    "# Hard coded for 3 segments\n",
    "# df.loc[df['Cluster'] == 0][\"article_title\"].to_string()\n",
    "# pd.set_option('display.max_colwidth', None)\n",
    "# display(df.loc[df['Cluster'] == 0][\"article_title\"])\n",
    "\n",
    "def gen_title_from_list_of_titles(titles):\n",
    "    titles = ''.join(titles) # Converts list of strings to a combined string\n",
    "    # print(titles)\n",
    "    response = openai.ChatCompletion.create(\n",
    "    model=\"gpt-3.5-turbo-16k\",\n",
    "    messages=[\n",
    "        {\n",
    "        \"role\": \"system\",\n",
    "        \"content\": \"You are a system that gets a list of titles of articles that will be explained in a podcast. Based on the titles you will generate a new title that fits this podcast segment. Your output should have this format: \\\"\\\"\\\"Insert title here\\\"\\\"\\\".\\n\"\n",
    "        },\n",
    "        {\n",
    "        \"role\": \"user\",\n",
    "        \"content\": titles\n",
    "        }\n",
    "    ],\n",
    "    temperature=1,\n",
    "    max_tokens=2000,\n",
    "    top_p=1,\n",
    "    frequency_penalty=0,\n",
    "    presence_penalty=0\n",
    "    )\n",
    "\n",
    "    return response['choices'][0]['message']['content']\n",
    "\n",
    "segment_1_title = gen_title_from_list_of_titles(df.loc[df['Cluster'] == 0][\"article_title\"].to_list()).replace('\"\"\"', '') # Replace to remove format form prompt\n",
    "segment_2_title = gen_title_from_list_of_titles(df.loc[df['Cluster'] == 1][\"article_title\"].to_list()).replace('\"\"\"', '')\n",
    "segment_3_title = gen_title_from_list_of_titles(df.loc[df['Cluster'] == 2][\"article_title\"].to_list()).replace('\"\"\"', '')\n",
    "\n"
   ]
  },
  {
   "cell_type": "markdown",
   "metadata": {},
   "source": [
    "#### Introduction & Outro generator"
   ]
  },
  {
   "cell_type": "code",
   "execution_count": 307,
   "metadata": {},
   "outputs": [],
   "source": [
    "def get_weather(city):\n",
    "    # url = f'http://api.openweathermap.org/data/2.5/weather?q={city}&appid={weather_api_key}&units=metric'\n",
    "    url = f'http://api.openweathermap.org/data/2.5/weather?q={city}&appid=8368401dc9a8d9bee4eeafa222ec5047&units=metric'\n",
    "    res = requests.get(url)\n",
    "    data = res.json()\n",
    "    humidity = data['main']['humidity']\n",
    "    pressure = data['main']['pressure']\n",
    "    wind = data['wind']['speed']\n",
    "    description = data['weather'][0]['description']\n",
    "    temp = int(data['main']['temp'])\n",
    "\n",
    "    # print('Temperature:',temp,'°C')\n",
    "    # print('Wind:',wind)\n",
    "    # print('Pressure: ',pressure)\n",
    "    # print('Humidity: ',humidity)\n",
    "    # print('Description:',description)\n",
    "    return temp, description\n",
    "\n",
    "town = \"Stockholm\"\n",
    "days = [\"Monday\", \"Tuesday\", \"Wednesday\", \"Thirsday\", \"Friday\", \"Saturday\", \"Sunday\"]\n",
    "day = days[datetime.datetime.today().weekday()]\n",
    "time = \"9 a.m\"\n",
    "w_temp, w_desc = get_weather(town)\n",
    "\n",
    "input = f\"This is the data about the day: town: {town}, day: {day}, time: {time}, temperature: {w_temp}, weather description: {w_desc}. And this is what the podcast will cover: {segment_1_title}, {segment_2_title}, {segment_3_title}\"\n",
    "\n",
    "response = openai.ChatCompletion.create(\n",
    "model=\"gpt-3.5-turbo-16k\",\n",
    "messages=[\n",
    "    {\n",
    "    \"role\": \"system\",\n",
    "    \"content\": 'You are a system that generates the introduction to the news podcast PodPerfect run by Zoe.  You get some information about the current day and the topic Zoe will talk about and you will combine this information into an opening segment or introduction to the podcast. Your output should follow this format and this is the output you should give with the \"\"\"Insert Text Here\"\"\" replaced: From PodPerfect, I am Zoe, bringing you this personalized podcast. \"\"\"Insert Text Here\"\"\" Lets jump right in!'\n",
    "    },\n",
    "    {\n",
    "    \"role\": \"user\",\n",
    "    \"content\": input\n",
    "    }\n",
    "],\n",
    "temperature=1,\n",
    "max_tokens=2000,\n",
    "top_p=1,\n",
    "frequency_penalty=0,\n",
    "presence_penalty=0\n",
    ")\n",
    "\n",
    "response2 = openai.ChatCompletion.create(\n",
    "model=\"gpt-3.5-turbo-16k\",\n",
    "messages=[\n",
    "    {\n",
    "    \"role\": \"system\",\n",
    "    \"content\": 'You are a system that generates the outro to the news podcast PodPerfect run by Zoe. You will get the introduction to the podcast as input. Always end with \"This episode was created by PodPerfect, your personalised podcast platform!\" Your output should follow this format with \"\"\"Insert Text Here\"\"\" replaced: \"\"\"Insert Text Here\"\"\".'\n",
    "    },\n",
    "    {\n",
    "    \"role\": \"user\",\n",
    "    \"content\": input\n",
    "    }\n",
    "],\n",
    "temperature=1,\n",
    "max_tokens=2000,\n",
    "top_p=1,\n",
    "frequency_penalty=0,\n",
    "presence_penalty=0\n",
    ")\n",
    "\n",
    "intro = response['choices'][0]['message']['content']\n",
    "outro = response2['choices'][0]['message']['content']"
   ]
  },
  {
   "cell_type": "markdown",
   "metadata": {},
   "source": [
    "#### Segment generation"
   ]
  },
  {
   "cell_type": "code",
   "execution_count": 308,
   "metadata": {},
   "outputs": [],
   "source": [
    "def gen_segment_from_body_of_articles(articles):\n",
    "    articles = ''.join(articles) # Converts list of strings to a combined string\n",
    "    max_tokens_for_input = 7000\n",
    "    max_chars_for_input = max_tokens_for_input * 4 # One token is roughly 4 chars\n",
    "    \n",
    "    # Shorten it to fit length of input to produce best results\n",
    "    articles = (articles[:max_chars_for_input] + '..') if len(articles) > max_chars_for_input else articles\n",
    "    response = openai.ChatCompletion.create(\n",
    "    model=\"gpt-3.5-turbo-16k\",\n",
    "    messages=[\n",
    "        {\n",
    "        \"role\": \"system\",\n",
    "        \"content\": 'You are a system that gets a body of articles and your job is to create a podcast segment out of it covering the main topics and themes in the text. Your output should only be the text that the podcaster will read out loud and nothing else. Try to make it around 7000 tokens. Your output should be in the following format: \"\"\"INSERT TEXT HERE\"\"\"'\n",
    "        },\n",
    "        {\n",
    "        \"role\": \"user\",\n",
    "        \"content\": articles\n",
    "        }\n",
    "    ],\n",
    "    temperature=1,\n",
    "    max_tokens=9000,\n",
    "    top_p=1,\n",
    "    frequency_penalty=0,\n",
    "    presence_penalty=0\n",
    "    )\n",
    "\n",
    "    return response['choices'][0]['message']['content']\n",
    "\n",
    "segment_1_body = gen_segment_from_body_of_articles(df.loc[df['Cluster'] == 0][\"article_body\"].to_list()).replace('\"\"\"', '') # Replace to remove format form prompt\n",
    "segment_2_body = gen_segment_from_body_of_articles(df.loc[df['Cluster'] == 1][\"article_body\"].to_list()).replace('\"\"\"', '')\n",
    "segment_3_body = gen_segment_from_body_of_articles(df.loc[df['Cluster'] == 2][\"article_body\"].to_list()).replace('\"\"\"', '')\n"
   ]
  },
  {
   "cell_type": "markdown",
   "metadata": {},
   "source": [
    "#### Combine into one txt file"
   ]
  },
  {
   "cell_type": "code",
   "execution_count": 309,
   "metadata": {},
   "outputs": [],
   "source": [
    "outline = ''\n",
    "with open('podscript.txt', 'r') as file:\n",
    "    outline = file.read()\n",
    "\n",
    "outline = outline.replace(\"\"\"INTRO\"\"\", intro)\n",
    "outline = outline.replace(\"\"\"OUTRO\"\"\", outro)\n",
    "\n",
    "outline = outline.replace(\"\"\"TEXT1\"\"\", segment_1_body)\n",
    "outline = outline.replace(\"\"\"TEXT2\"\"\", segment_2_body)\n",
    "outline = outline.replace(\"\"\"TEXT3\"\"\", segment_3_body)\n",
    "\n",
    "outline = outline.replace(\"\"\"TITLE1\"\"\", segment_1_title)\n",
    "outline = outline.replace(\"\"\"TITLE2\"\"\", segment_2_title)\n",
    "outline = outline.replace(\"\"\"TITLE3\"\"\", segment_3_title)"
   ]
  },
  {
   "cell_type": "code",
   "execution_count": 310,
   "metadata": {},
   "outputs": [
    {
     "data": {
      "text/plain": [
       "'\"\"\"From PodPerfect, I am Zoe, bringing you this personalized podcast. Today, we\\'re coming to you from the vibrant town of Stockholm on this rainy Saturday morning at 9 a.m, where the temperature is a cool 5 degrees. But fear not, we have a hot topic to discuss today. In the gaming world, Microsoft has made a game-changing move with its $69 billion acquisition of Activision Blizzard. We\\'ll be diving into the future of Activision Blizzard King, exploring the impact of this acquisition on Xbox Game Pass, exclusives, and upcoming releases. And that\\'s not all; we\\'ll also be taking a closer look at Microsoft\\'s green flags, earnings, acquisitions, and AI push in the global tech market. So grab your coffee and get ready for an episode filled with exciting gaming and tech news. Let\\'s jump right in!\"\"\"\\n\\nChapter 1: \"\"\"Microsoft\\'s $69 Billion Acquisition of Activision Blizzard: A Game-Changing Move\"\"\"\\n\"\"\"Microsoft has gained approval from UK authorities for its $68.7 billion deal to acquire Activision Blizzard. The deal, which has been approved by the Federal Trade Commission, marks a significant milestone for Microsoft as it positions itself as a global gaming powerhouse. The acquisition gives Microsoft control over iconic gaming titles such as Call of Duty, offering new opportunities for growth and expansion in the gaming industry. Ubisoft has gained the perpetual cloud streaming rights for Call of Duty and other Activision Blizzard titles in the European Economic Area, while Microsoft has the option to license these rights for Xbox Cloud Gaming. Activision Blizzard games will become part of Ubisoft\\'s game subscription service, Ubisoft Plus, for the next 15 years. The gaming industry\\'s shift towards streaming is revolutionizing accessibility, making gaming as convenient as music and movie streaming. Microsoft\\'s acquisition of Activision Blizzard, combined with Ubisoft\\'s strides in cloud gaming, promises to enhance the convenience and accessibility of gaming for players worldwide.\"\"\"\\n\\nChapter 2: \"\"\"The Future of Activision Blizzard King: Xbox Game Pass, Exclusives, and Upcoming Releases\"\"\"\\n\"\"\"Xbox chief Phil Spencer has confirmed that games from Activision Blizzard will not be available on Xbox Game Pass until 2024. In a recent official Xbox podcast, Spencer explained that due to the long regulatory process involved in the acquisition, the work to incorporate Activision Blizzard games into Game Pass was unable to start until after the deal had closed. While there had been speculation around the immediate release of games such as Call of Duty onto Game Pass, Spencer clarified that there will not be a drop of Activision Blizzard games anytime soon. However, he expressed excitement for the future and the long-term potential of the acquisition. The acquisition of Activision Blizzard King by Microsoft means that the Xbox brand now owns iconic franchises such as Call of Duty, World of Warcraft, Diablo, Overwatch, and Starcraft. This raises questions about exclusivity and the inclusion of these franchises in Xbox Game Pass, which currently has over 30 million subscribers. Furthermore, Spencer confirmed that there are no plans to make Call of Duty content exclusive to Xbox consoles, emphasizing the goal of parity across platforms. As for the possibility of bringing back older IPs, such as Spyro and Guitar Hero, Spencer stated that any revival would need to be driven by passionate teams that want to make a difference rather than being motivated by financial gain. Ultimately, the acquisition of Activision Blizzard by Microsoft presents a massive opportunity for the Xbox brand, but it also raises questions about the future of these iconic gaming franchises and how Microsoft will navigate exclusivity and the integration of game libraries into Xbox Game Pass.\"\"\"\\n\\nChapter 3: \"\"\"Exploring Microsoft\\'s Green Flags, Earnings, Acquisitions, and AI Push in the Global Tech Market\"\"\"\\n\"\"\"Microsoft has had a remarkable turnaround under the leadership of CEO Satya Nadella, positioning it as a company to watch in the tech industry. Here are two key reasons why Microsoft has a promising future:\\n\\n1. Leading in Artificial Intelligence (AI): Microsoft has become one of the most influential companies in AI, with its $10 billion investment in OpenAI. This partnership has allowed Microsoft to integrate AI technology into its software lineup, including Azure, Office, and Bing. The growing AI market presents significant growth potential, and Microsoft is well-positioned to cater to businesses and consumers looking to incorporate AI into their workflows.\\n\\n2. Completing the Acquisition of Activision Blizzard: Microsoft\\'s $69 billion acquisition of game developer Activision Blizzard has solidified its position in the gaming industry. With popular game franchises like \"Call of Duty\" and \"World of Warcraft,\" Microsoft can expand its Xbox brand and Game Pass service. Game Pass offers a subscription-based platform for accessing a variety of games, making Xbox consoles and services more attractive to consumers.\\n\\nMicrosoft\\'s success in AI and its entry into the gaming market make it a compelling choice for investors. The company\\'s consistent growth and strategic acquisitions demonstrate its potential for long-term success.\"\"\"\\n\\n\"\"\"And that\\'s a wrap for today\\'s episode! We had an exciting lineup of topics ranging from the blockbuster acquisition of Activision Blizzard by Microsoft to the future of Activision Blizzard King within the Xbox Game Pass. We also delved into Microsoft\\'s green flags, earnings, acquisitions, and their AI push in the global tech market. Stay tuned for more interesting discussions and updates from the world of gaming and technology. Thanks for listening, and don\\'t forget to subscribe to PodPerfect for personalized podcasts tailored just for you! This episode was created by PodPerfect, your personalized podcast platform!\"\"\"\\n'"
      ]
     },
     "execution_count": 310,
     "metadata": {},
     "output_type": "execute_result"
    }
   ],
   "source": [
    "outline"
   ]
  },
  {
   "cell_type": "code",
   "execution_count": 253,
   "metadata": {},
   "outputs": [
    {
     "data": {
      "text/plain": [
       "\"This episode of PodPerfect takes a deep dive into the legal battles of Donald Trump, exploring the troubles that have surrounded the former president. We also analyze the ongoing political showdown between Biden and Trump, focusing on their campaign finances, polling numbers, and strategic approaches. Additionally, we discuss Trump's endorsements and Biden's trolling, taking you on a political rollercoaster ride. Tune in to get all the latest updates and insights. And remember, this episode was created by PodPerfect, your personalised podcast platform!\""
      ]
     },
     "execution_count": 253,
     "metadata": {},
     "output_type": "execute_result"
    }
   ],
   "source": [
    "outro"
   ]
  }
 ],
 "metadata": {
  "kernelspec": {
   "display_name": "base",
   "language": "python",
   "name": "python3"
  },
  "language_info": {
   "codemirror_mode": {
    "name": "ipython",
    "version": 3
   },
   "file_extension": ".py",
   "mimetype": "text/x-python",
   "name": "python",
   "nbconvert_exporter": "python",
   "pygments_lexer": "ipython3",
   "version": "3.10.12"
  }
 },
 "nbformat": 4,
 "nbformat_minor": 2
}
