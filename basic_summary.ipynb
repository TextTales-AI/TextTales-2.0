{
 "cells": [
  {
   "cell_type": "code",
   "execution_count": null,
   "metadata": {},
   "outputs": [],
   "source": [
    "! pip install openai tiktoken langchain gradio"
   ]
  },
  {
   "cell_type": "code",
   "execution_count": 70,
   "metadata": {},
   "outputs": [],
   "source": [
    "import os\n",
    "import gradio as gr\n",
    "from langchain.chat_models import ChatOpenAI\n",
    "from langchain.document_loaders import PyPDFLoader\n",
    "from elevenlabs import voices, generate, play, save\n",
    "\n",
    "eleven_api_key = \"34dbe78c2a8c6642fcdc27dbb44c1929\""
   ]
  },
  {
   "cell_type": "code",
   "execution_count": 87,
   "metadata": {},
   "outputs": [],
   "source": [
    "def summarize_and_sonify(file, num_minutes, voice):\n",
    "\n",
    "    # Read doc\n",
    "    doc = PyPDFLoader(file.name).load()\n",
    "\n",
    "    # Create string from doc content\n",
    "    text = ''\n",
    "    for page in doc:\n",
    "        text += page.page_content\n",
    "\n",
    "    num_words = num_minutes*135 # Approximately 135 words per minute with TTS voice (refine this)\n",
    "\n",
    "    audio_voice = voice.split()[0]\n",
    "    summary_lang = \"English\"\n",
    "    if voice.split()[1] == \"(SWE)\":\n",
    "        summary_lang = \"Swedish\"\n",
    "    if voice.split()[1] == \"(IT)\":\n",
    "        summary_lang = \"Italian\"\n",
    "\n",
    "    # Connect to OpenAI, prompt ChatGPT to summarize the text\n",
    "    chat_model = ChatOpenAI() # Must have set API key as env var\n",
    "    prompt = \"Summarize the following text in {} words. The summary must be in {}. Text: {}\".format(num_words, summary_lang, text) \n",
    "    summary = chat_model.predict(prompt)\n",
    "\n",
    "    # Connect to elevenlabs, generate audio\n",
    "    audio = generate(text=summary, voice=audio_voice, model=\"eleven_monolingual_v1\", api_key=eleven_api_key)\n",
    "\n",
    "    # Save audiofile\n",
    "    if not os.path.exists(\"audiofiles\"):\n",
    "        os.makedirs(\"audiofiles\")\n",
    "\n",
    "    # Handling identical file names\n",
    "    file_suffix = 0\n",
    "    while os.path.exists(\"audiofiles/summary_in_{}_mins_{}.wav\".format(num_minutes, file_suffix)):\n",
    "        file_suffix +=1\n",
    "\n",
    "    save(audio, \"audiofiles/summary_in_{}_mins_{}.wav\".format(num_minutes, file_suffix))\n",
    "\n",
    "    return \"audiofiles/summary_in_{}_mins_{}.wav\".format(num_minutes, file_suffix)\n",
    "\n",
    "\n"
   ]
  },
  {
   "cell_type": "code",
   "execution_count": 88,
   "metadata": {},
   "outputs": [
    {
     "name": "stdout",
     "output_type": "stream",
     "text": [
      "Running on local URL:  http://127.0.0.1:7881\n",
      "\n",
      "To create a public link, set `share=True` in `launch()`.\n"
     ]
    },
    {
     "data": {
      "text/html": [
       "<div><iframe src=\"http://127.0.0.1:7881/\" width=\"100%\" height=\"500\" allow=\"autoplay; camera; microphone; clipboard-read; clipboard-write;\" frameborder=\"0\" allowfullscreen></iframe></div>"
      ],
      "text/plain": [
       "<IPython.core.display.HTML object>"
      ]
     },
     "metadata": {},
     "output_type": "display_data"
    },
    {
     "data": {
      "text/plain": []
     },
     "execution_count": 88,
     "metadata": {},
     "output_type": "execute_result"
    }
   ],
   "source": [
    "demo = gr.Interface(fn=summarize_and_sonify, \n",
    "                    inputs=[\n",
    "                            \"file\", \n",
    "                            gr.Slider(minimum=0.5, maximum=5, step=0.5, label=\"Length\", info = \"Number of minutes of audio summary\"),\n",
    "                            gr.Dropdown([\"Adam (US)\", \"Antoni (IT)\", \"Arnold (US)\", \"Bella (US)\", \"Domi (US)\", \"Elli (US)\", \"Josh (SWE)\", \"Rachel (US)\", \"Sam (US)\"], label=\"Voice\", info=\"Narrator voice and language of audio summary\"),\n",
    "                            ],\n",
    "                    outputs= [\"audio\"]\n",
    "                    )\n",
    "demo.launch(share=True)"
   ]
  },
  {
   "cell_type": "code",
   "execution_count": null,
   "metadata": {},
   "outputs": [],
   "source": [
    "voices = voices()\n",
    "for i in range(30):\n",
    "    print(voices[i].name)"
   ]
  }
 ],
 "metadata": {
  "kernelspec": {
   "display_name": "Python 3",
   "language": "python",
   "name": "python3"
  },
  "language_info": {
   "codemirror_mode": {
    "name": "ipython",
    "version": 3
   },
   "file_extension": ".py",
   "mimetype": "text/x-python",
   "name": "python",
   "nbconvert_exporter": "python",
   "pygments_lexer": "ipython3",
   "version": "3.11.0"
  },
  "orig_nbformat": 4
 },
 "nbformat": 4,
 "nbformat_minor": 2
}
