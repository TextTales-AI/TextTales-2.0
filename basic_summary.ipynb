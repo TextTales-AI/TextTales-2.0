{
 "cells": [
  {
   "cell_type": "code",
   "execution_count": null,
   "metadata": {},
   "outputs": [],
   "source": [
    "! pip install openai tiktoken langchain gradio"
   ]
  },
  {
   "cell_type": "code",
   "execution_count": 1,
   "metadata": {},
   "outputs": [
    {
     "name": "stderr",
     "output_type": "stream",
     "text": [
      "/Users/danielbouvin/Library/Python/3.9/lib/python/site-packages/urllib3/__init__.py:34: NotOpenSSLWarning: urllib3 v2.0 only supports OpenSSL 1.1.1+, currently the 'ssl' module is compiled with 'LibreSSL 2.8.3'. See: https://github.com/urllib3/urllib3/issues/3020\n",
      "  warnings.warn(\n",
      "/Users/danielbouvin/Library/Python/3.9/lib/python/site-packages/tqdm/auto.py:21: TqdmWarning: IProgress not found. Please update jupyter and ipywidgets. See https://ipywidgets.readthedocs.io/en/stable/user_install.html\n",
      "  from .autonotebook import tqdm as notebook_tqdm\n",
      "/Users/danielbouvin/Library/Python/3.9/lib/python/site-packages/pydantic/_internal/_fields.py:127: UserWarning: Field \"model_id\" has conflict with protected namespace \"model_\".\n",
      "\n",
      "You may be able to resolve this warning by setting `model_config['protected_namespaces'] = ()`.\n",
      "  warnings.warn(\n"
     ]
    }
   ],
   "source": [
    "import os\n",
    "import gradio as gr\n",
    "from langchain.chat_models import ChatOpenAI\n",
    "from langchain.document_loaders import PyPDFLoader\n",
    "from elevenlabs import voices, generate, play, save\n",
    "import constants\n",
    "import openai\n",
    "\n",
    "# Load API keys from environment variables\n",
    "os.environ[\"OPENAI_API_KEY\"] = constants.OPENAI_API_KEY\n",
    "openai.api_key = constants.OPENAI_API_KEY"
   ]
  },
  {
   "cell_type": "code",
   "execution_count": 9,
   "metadata": {},
   "outputs": [],
   "source": [
    "def summarize_and_sonify(text, file, num_minutes, voice):\n",
    "    \n",
    "    if len(text) == 0:\n",
    "        # Read doc\n",
    "        doc = PyPDFLoader(file.name).load()\n",
    "\n",
    "        # Create string from doc content\n",
    "        text = ''\n",
    "        for page in doc:\n",
    "            text += page.page_content\n",
    "\n",
    "    num_words = num_minutes*135 # Approximately 135 words per minute with TTS voice (refine this)\n",
    "\n",
    "    audio_voice = voice.split()[0]\n",
    "    summary_lang = \"English\"\n",
    "    if voice.split()[1] == \"(SWE)\":\n",
    "        summary_lang = \"Swedish\"\n",
    "    if voice.split()[1] == \"(IT)\":\n",
    "        summary_lang = \"Italian\"\n",
    "\n",
    "    # Connect to OpenAI, prompt ChatGPT to summarize the text\n",
    "    chat_model = ChatOpenAI() # Must have set API key as env var\n",
    "    prompt = \"Summarize the following text in {} words. The summary must be in {}. Text: {}\".format(num_words, summary_lang, text) \n",
    "    summary = chat_model.predict(prompt)\n",
    "\n",
    "    # Connect to elevenlabs, generate audio\n",
    "    audio = generate(text=summary, voice=audio_voice, model=\"eleven_monolingual_v1\", api_key=constants.ELEVEN_API_KEY)\n",
    "\n",
    "    # Save audiofile\n",
    "    if not os.path.exists(\"audiofiles\"):\n",
    "        os.makedirs(\"audiofiles\")\n",
    "\n",
    "    # Handling identical file names\n",
    "    file_suffix = 0\n",
    "    while os.path.exists(\"audiofiles/summary_in_{}_mins_{}.wav\".format(num_minutes, file_suffix)):\n",
    "        file_suffix +=1\n",
    "\n",
    "    save(audio, \"audiofiles/summary_in_{}_mins_{}.wav\".format(num_minutes, file_suffix))\n",
    "\n",
    "    return \"audiofiles/summary_in_{}_mins_{}.wav\".format(num_minutes, file_suffix)\n",
    "\n",
    "\n"
   ]
  },
  {
   "cell_type": "code",
   "execution_count": 10,
   "metadata": {},
   "outputs": [
    {
     "name": "stdout",
     "output_type": "stream",
     "text": [
      "Running on local URL:  http://127.0.0.1:7863\n",
      "Running on public URL: https://d28ff7cc79577478fd.gradio.live\n",
      "\n",
      "This share link expires in 72 hours. For free permanent hosting and GPU upgrades, run `gradio deploy` from Terminal to deploy to Spaces (https://huggingface.co/spaces)\n"
     ]
    },
    {
     "data": {
      "text/html": [
       "<div><iframe src=\"https://d28ff7cc79577478fd.gradio.live\" width=\"100%\" height=\"500\" allow=\"autoplay; camera; microphone; clipboard-read; clipboard-write;\" frameborder=\"0\" allowfullscreen></iframe></div>"
      ],
      "text/plain": [
       "<IPython.core.display.HTML object>"
      ]
     },
     "metadata": {},
     "output_type": "display_data"
    },
    {
     "data": {
      "text/plain": []
     },
     "execution_count": 10,
     "metadata": {},
     "output_type": "execute_result"
    },
    {
     "name": "stderr",
     "output_type": "stream",
     "text": [
      "Traceback (most recent call last):\n",
      "  File \"/Users/danielbouvin/Library/Python/3.9/lib/python/site-packages/gradio/routes.py\", line 507, in predict\n",
      "    output = await route_utils.call_process_api(\n",
      "  File \"/Users/danielbouvin/Library/Python/3.9/lib/python/site-packages/gradio/route_utils.py\", line 219, in call_process_api\n",
      "    output = await app.get_blocks().process_api(\n",
      "  File \"/Users/danielbouvin/Library/Python/3.9/lib/python/site-packages/gradio/blocks.py\", line 1437, in process_api\n",
      "    result = await self.call_function(\n",
      "  File \"/Users/danielbouvin/Library/Python/3.9/lib/python/site-packages/gradio/blocks.py\", line 1109, in call_function\n",
      "    prediction = await anyio.to_thread.run_sync(\n",
      "  File \"/Users/danielbouvin/Library/Python/3.9/lib/python/site-packages/anyio/to_thread.py\", line 33, in run_sync\n",
      "    return await get_asynclib().run_sync_in_worker_thread(\n",
      "  File \"/Users/danielbouvin/Library/Python/3.9/lib/python/site-packages/anyio/_backends/_asyncio.py\", line 877, in run_sync_in_worker_thread\n",
      "    return await future\n",
      "  File \"/Users/danielbouvin/Library/Python/3.9/lib/python/site-packages/anyio/_backends/_asyncio.py\", line 807, in run\n",
      "    result = context.run(func, *args)\n",
      "  File \"/Users/danielbouvin/Library/Python/3.9/lib/python/site-packages/gradio/utils.py\", line 641, in wrapper\n",
      "    response = f(*args, **kwargs)\n",
      "  File \"/var/folders/wc/swk86wz15d3c687dfz8m8n7h0000gn/T/ipykernel_26756/3056600352.py\", line 27, in summarize_and_sonify\n",
      "    audio = generate(text=summary, voice=audio_voice, model=\"eleven_monolingual_v1\", api_key=constants.ELEVEN_API_KEY)\n",
      "  File \"/Users/danielbouvin/Library/Python/3.9/lib/python/site-packages/elevenlabs/simple.py\", line 73, in generate\n",
      "    return TTS.generate(text, voice, model, api_key=api_key)\n",
      "  File \"/Users/danielbouvin/Library/Python/3.9/lib/python/site-packages/elevenlabs/api/tts.py\", line 45, in generate\n",
      "    response = API.post(url, json=data, api_key=api_key)\n",
      "  File \"/Users/danielbouvin/Library/Python/3.9/lib/python/site-packages/elevenlabs/api/base.py\", line 76, in post\n",
      "    return API.request(url, method=\"post\", *args, **kwargs)  # type: ignore\n",
      "  File \"/Users/danielbouvin/Library/Python/3.9/lib/python/site-packages/elevenlabs/api/base.py\", line 64, in request\n",
      "    raise RateLimitError(message)\n",
      "elevenlabs.api.error.RateLimitError: This request exceeds your quota. You have 308 characters remaining, while 446 characters are required for this request.\n"
     ]
    }
   ],
   "source": [
    "demo = gr.Interface(fn=summarize_and_sonify, \n",
    "                    inputs=[\n",
    "                        \"text\",\n",
    "                        \"file\", \n",
    "                        gr.Slider(minimum=0.5, maximum=5, step=0.5, label=\"Length\", info = \"Number of minutes of audio summary\"),\n",
    "                        gr.Dropdown([\"Adam (US)\", \"Antoni (IT)\", \"Arnold (US)\", \"Bella (US)\", \"Domi (US)\", \"Elli (US)\", \"Josh (SWE)\", \"Rachel (US)\", \"Sam (US)\"], label=\"Voice\", info=\"Narrator voice and language of audio summary\")\n",
    "                            ],\n",
    "                    outputs= [\"audio\"]\n",
    "                    )\n",
    "demo.launch(share=True)"
   ]
  },
  {
   "cell_type": "code",
   "execution_count": 4,
   "metadata": {},
   "outputs": [
    {
     "name": "stdout",
     "output_type": "stream",
     "text": [
      "Rachel\n",
      "Clyde\n",
      "Domi\n",
      "Dave\n",
      "Fin\n",
      "Bella\n",
      "Antoni\n",
      "Thomas\n",
      "Charlie\n",
      "Emily\n",
      "Elli\n",
      "Callum\n",
      "Patrick\n",
      "Harry\n",
      "Liam\n",
      "Dorothy\n",
      "Josh\n",
      "Arnold\n",
      "Charlotte\n",
      "Matilda\n",
      "Matthew\n",
      "James\n",
      "Joseph\n",
      "Jeremy\n",
      "Michael\n",
      "Ethan\n",
      "Gigi\n",
      "Freya\n",
      "Grace\n",
      "Daniel\n"
     ]
    },
    {
     "name": "stdout",
     "output_type": "stream",
     "text": [
      "\n"
     ]
    },
    {
     "name": "stderr",
     "output_type": "stream",
     "text": [
      "Traceback (most recent call last):\n",
      "  File \"/Users/danielbouvin/Library/Python/3.9/lib/python/site-packages/gradio/routes.py\", line 507, in predict\n",
      "    output = await route_utils.call_process_api(\n",
      "  File \"/Users/danielbouvin/Library/Python/3.9/lib/python/site-packages/gradio/route_utils.py\", line 219, in call_process_api\n",
      "    output = await app.get_blocks().process_api(\n",
      "  File \"/Users/danielbouvin/Library/Python/3.9/lib/python/site-packages/gradio/blocks.py\", line 1437, in process_api\n",
      "    result = await self.call_function(\n",
      "  File \"/Users/danielbouvin/Library/Python/3.9/lib/python/site-packages/gradio/blocks.py\", line 1109, in call_function\n",
      "    prediction = await anyio.to_thread.run_sync(\n",
      "  File \"/Users/danielbouvin/Library/Python/3.9/lib/python/site-packages/anyio/to_thread.py\", line 33, in run_sync\n",
      "    return await get_asynclib().run_sync_in_worker_thread(\n",
      "  File \"/Users/danielbouvin/Library/Python/3.9/lib/python/site-packages/anyio/_backends/_asyncio.py\", line 877, in run_sync_in_worker_thread\n",
      "    return await future\n",
      "  File \"/Users/danielbouvin/Library/Python/3.9/lib/python/site-packages/anyio/_backends/_asyncio.py\", line 807, in run\n",
      "    result = context.run(func, *args)\n",
      "  File \"/Users/danielbouvin/Library/Python/3.9/lib/python/site-packages/gradio/utils.py\", line 641, in wrapper\n",
      "    response = f(*args, **kwargs)\n",
      "  File \"/var/folders/wc/swk86wz15d3c687dfz8m8n7h0000gn/T/ipykernel_26756/1262609161.py\", line 28, in summarize_and_sonify\n",
      "    audio = generate(text=summary, voice=audio_voice, model=\"eleven_monolingual_v1\", api_key=constants.ELEVEN_API_KEY)\n",
      "  File \"/Users/danielbouvin/Library/Python/3.9/lib/python/site-packages/elevenlabs/simple.py\", line 73, in generate\n",
      "    return TTS.generate(text, voice, model, api_key=api_key)\n",
      "  File \"/Users/danielbouvin/Library/Python/3.9/lib/python/site-packages/elevenlabs/api/tts.py\", line 45, in generate\n",
      "    response = API.post(url, json=data, api_key=api_key)\n",
      "  File \"/Users/danielbouvin/Library/Python/3.9/lib/python/site-packages/elevenlabs/api/base.py\", line 76, in post\n",
      "    return API.request(url, method=\"post\", *args, **kwargs)  # type: ignore\n",
      "  File \"/Users/danielbouvin/Library/Python/3.9/lib/python/site-packages/elevenlabs/api/base.py\", line 64, in request\n",
      "    raise RateLimitError(message)\n",
      "elevenlabs.api.error.RateLimitError: This request exceeds your quota. You have 308 characters remaining, while 566 characters are required for this request.\n"
     ]
    }
   ],
   "source": [
    "voices = voices()\n",
    "for i in range(30):\n",
    "    print(voices[i].name)"
   ]
  }
 ],
 "metadata": {
  "kernelspec": {
   "display_name": "Python 3",
   "language": "python",
   "name": "python3"
  },
  "language_info": {
   "codemirror_mode": {
    "name": "ipython",
    "version": 3
   },
   "file_extension": ".py",
   "mimetype": "text/x-python",
   "name": "python",
   "nbconvert_exporter": "python",
   "pygments_lexer": "ipython3",
   "version": "3.9.6"
  },
  "orig_nbformat": 4
 },
 "nbformat": 4,
 "nbformat_minor": 2
}
